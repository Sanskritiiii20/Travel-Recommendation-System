{
 "cells": [
  {
   "cell_type": "markdown",
   "metadata": {},
   "source": [
    "## Import Libraries "
   ]
  },
  {
   "cell_type": "code",
   "execution_count": 1,
   "metadata": {
    "executionInfo": {
     "elapsed": 8,
     "status": "ok",
     "timestamp": 1749198379832,
     "user": {
      "displayName": "collegeratnagiri government",
      "userId": "11950044814894972433"
     },
     "user_tz": -330
    },
    "id": "nP58NCMQ9PV6"
   },
   "outputs": [],
   "source": [
    "import pandas as pd\n",
    "import numpy as np\n",
    "import seaborn as sns\n",
    "import matplotlib.pyplot as plt\n",
    "from sklearn.preprocessing import LabelEncoder\n",
    "from sklearn.metrics.pairwise import cosine_similarity\n",
    "from sklearn.feature_extraction.text import CountVectorizer\n",
    "from sklearn.model_selection import train_test_split\n",
    "from sklearn.ensemble import RandomForestRegressor\n",
    "from sklearn.preprocessing import LabelEncoder\n",
    "from sklearn.metrics import mean_squared_error, r2_score\n",
    "import pickle"
   ]
  },
  {
   "cell_type": "code",
   "execution_count": 2,
   "metadata": {},
   "outputs": [],
   "source": [
    "from warnings import filterwarnings\n",
    "filterwarnings('ignore')  # This disables all warning messages\n"
   ]
  },
  {
   "cell_type": "markdown",
   "metadata": {},
   "source": [
    "## Load Datasets"
   ]
  },
  {
   "cell_type": "code",
   "execution_count": 3,
   "metadata": {},
   "outputs": [],
   "source": [
    "destinations_df = pd.read_csv(\"Expanded_Destinations.csv\")\n",
    "reviews_df = pd.read_csv(\"Final_Updated_Expanded_Reviews.csv\")\n",
    "userhistory_df = pd.read_csv(\"Final_Updated_Expanded_UserHistory.csv\")\n",
    "users_df = pd.read_csv(\"Final_Updated_Expanded_Users.csv\")"
   ]
  },
  {
   "cell_type": "code",
   "execution_count": 4,
   "metadata": {},
   "outputs": [
    {
     "name": "stdout",
     "output_type": "stream",
     "text": [
      "Total number of users: 999\n",
      "Total number of destinations: 1000\n",
      "Destination types: ['Historical' 'Beach' 'City' 'Nature' 'Adventure']\n",
      "States: ['Uttar Pradesh' 'Goa' 'Rajasthan' 'Kerala' 'Jammu and Kashmir']\n"
     ]
    }
   ],
   "source": [
    "# Count how many users are in the data\n",
    "print(\"Total number of users:\", len(users_df))\n",
    "\n",
    "# Count how many destinations are in the data\n",
    "print(\"Total number of destinations:\", len(destinations_df))\n",
    "\n",
    "# Show all the different types of destinations (like beach, mountain, etc.)\n",
    "print(\"Destination types:\", destinations_df['Type'].unique())\n",
    "\n",
    "# Show all the different states where destinations are located\n",
    "print(\"States:\", destinations_df['State'].unique())\n"
   ]
  },
  {
   "cell_type": "markdown",
   "metadata": {},
   "source": [
    "## Data Inspection Methods and Attribute"
   ]
  },
  {
   "cell_type": "code",
   "execution_count": 5,
   "metadata": {
    "executionInfo": {
     "elapsed": 39,
     "status": "ok",
     "timestamp": 1749196350561,
     "user": {
      "displayName": "collegeratnagiri government",
      "userId": "11950044814894972433"
     },
     "user_tz": -330
    },
    "id": "87V1n0Qs-Sf7"
   },
   "outputs": [],
   "source": [
    "def dataset_info(df, name):\n",
    "    print(f\"\\n {name} Dataset:\")\n",
    "    print(df.info())\n",
    "    print(df.describe())\n",
    "    print(\"Missing values:\", df.isnull().sum())\n",
    "    print(\"Duplicates:\", df.duplicated().sum())"
   ]
  },
  {
   "cell_type": "code",
   "execution_count": 6,
   "metadata": {
    "colab": {
     "base_uri": "https://localhost:8080/"
    },
    "executionInfo": {
     "elapsed": 621,
     "status": "ok",
     "timestamp": 1749196358985,
     "user": {
      "displayName": "collegeratnagiri government",
      "userId": "11950044814894972433"
     },
     "user_tz": -330
    },
    "id": "J335c5el-xxL",
    "outputId": "e3c105ed-17f0-42e2-f002-7bea10568c96"
   },
   "outputs": [
    {
     "name": "stdout",
     "output_type": "stream",
     "text": [
      "\n",
      " Destinations Dataset:\n",
      "<class 'pandas.core.frame.DataFrame'>\n",
      "RangeIndex: 1000 entries, 0 to 999\n",
      "Data columns (total 6 columns):\n",
      " #   Column           Non-Null Count  Dtype  \n",
      "---  ------           --------------  -----  \n",
      " 0   DestinationID    1000 non-null   int64  \n",
      " 1   Name             1000 non-null   object \n",
      " 2   State            1000 non-null   object \n",
      " 3   Type             1000 non-null   object \n",
      " 4   Popularity       1000 non-null   float64\n",
      " 5   BestTimeToVisit  1000 non-null   object \n",
      "dtypes: float64(1), int64(1), object(4)\n",
      "memory usage: 47.0+ KB\n",
      "None\n",
      "       DestinationID   Popularity\n",
      "count    1000.000000  1000.000000\n",
      "mean      500.500000     8.513927\n",
      "std       288.819436     0.567083\n",
      "min         1.000000     7.504500\n",
      "25%       250.750000     8.034457\n",
      "50%       500.500000     8.496527\n",
      "75%       750.250000     9.020769\n",
      "max      1000.000000     9.499811\n",
      "Missing values: DestinationID      0\n",
      "Name               0\n",
      "State              0\n",
      "Type               0\n",
      "Popularity         0\n",
      "BestTimeToVisit    0\n",
      "dtype: int64\n",
      "Duplicates: 0\n"
     ]
    }
   ],
   "source": [
    "dataset_info(destinations_df, \"Destinations\")"
   ]
  },
  {
   "cell_type": "code",
   "execution_count": 7,
   "metadata": {
    "colab": {
     "base_uri": "https://localhost:8080/"
    },
    "executionInfo": {
     "elapsed": 438,
     "status": "ok",
     "timestamp": 1749196359424,
     "user": {
      "displayName": "collegeratnagiri government",
      "userId": "11950044814894972433"
     },
     "user_tz": -330
    },
    "id": "IKra-HQ7-2vq",
    "outputId": "134f8b7e-e852-4913-96d4-b9cbbedfcc60"
   },
   "outputs": [
    {
     "name": "stdout",
     "output_type": "stream",
     "text": [
      "\n",
      " Users Dataset:\n",
      "<class 'pandas.core.frame.DataFrame'>\n",
      "RangeIndex: 999 entries, 0 to 998\n",
      "Data columns (total 7 columns):\n",
      " #   Column            Non-Null Count  Dtype \n",
      "---  ------            --------------  ----- \n",
      " 0   UserID            999 non-null    int64 \n",
      " 1   Name              999 non-null    object\n",
      " 2   Email             999 non-null    object\n",
      " 3   Preferences       999 non-null    object\n",
      " 4   Gender            999 non-null    object\n",
      " 5   NumberOfAdults    999 non-null    int64 \n",
      " 6   NumberOfChildren  999 non-null    int64 \n",
      "dtypes: int64(3), object(4)\n",
      "memory usage: 54.8+ KB\n",
      "None\n",
      "           UserID  NumberOfAdults  NumberOfChildren\n",
      "count  999.000000      999.000000        999.000000\n",
      "mean   500.000000        1.504505          0.981982\n",
      "std    288.530761        0.500230          0.811784\n",
      "min      1.000000        1.000000          0.000000\n",
      "25%    250.500000        1.000000          0.000000\n",
      "50%    500.000000        2.000000          1.000000\n",
      "75%    749.500000        2.000000          2.000000\n",
      "max    999.000000        2.000000          2.000000\n",
      "Missing values: UserID              0\n",
      "Name                0\n",
      "Email               0\n",
      "Preferences         0\n",
      "Gender              0\n",
      "NumberOfAdults      0\n",
      "NumberOfChildren    0\n",
      "dtype: int64\n",
      "Duplicates: 0\n"
     ]
    }
   ],
   "source": [
    "dataset_info(users_df, \"Users\")"
   ]
  },
  {
   "cell_type": "code",
   "execution_count": 8,
   "metadata": {
    "colab": {
     "base_uri": "https://localhost:8080/"
    },
    "executionInfo": {
     "elapsed": 7,
     "status": "ok",
     "timestamp": 1749196471046,
     "user": {
      "displayName": "collegeratnagiri government",
      "userId": "11950044814894972433"
     },
     "user_tz": -330
    },
    "id": "PalSeq-F--Yz",
    "outputId": "c89e8ce4-bda8-40b7-d3b8-beaae6062778"
   },
   "outputs": [
    {
     "name": "stdout",
     "output_type": "stream",
     "text": [
      "\n",
      " Reviews Dataset:\n",
      "<class 'pandas.core.frame.DataFrame'>\n",
      "RangeIndex: 999 entries, 0 to 998\n",
      "Data columns (total 5 columns):\n",
      " #   Column         Non-Null Count  Dtype \n",
      "---  ------         --------------  ----- \n",
      " 0   ReviewID       999 non-null    int64 \n",
      " 1   DestinationID  999 non-null    int64 \n",
      " 2   UserID         999 non-null    int64 \n",
      " 3   Rating         999 non-null    int64 \n",
      " 4   ReviewText     999 non-null    object\n",
      "dtypes: int64(4), object(1)\n",
      "memory usage: 39.2+ KB\n",
      "None\n",
      "         ReviewID  DestinationID      UserID      Rating\n",
      "count  999.000000     999.000000  999.000000  999.000000\n",
      "mean   500.000000     506.392392  498.610611    3.023023\n",
      "std    288.530761     285.604889  286.963411    1.419331\n",
      "min      1.000000       1.000000    2.000000    1.000000\n",
      "25%    250.500000     273.000000  252.000000    2.000000\n",
      "50%    500.000000     501.000000  494.000000    3.000000\n",
      "75%    749.500000     752.000000  747.500000    4.000000\n",
      "max    999.000000    1000.000000  999.000000    5.000000\n",
      "Missing values: ReviewID         0\n",
      "DestinationID    0\n",
      "UserID           0\n",
      "Rating           0\n",
      "ReviewText       0\n",
      "dtype: int64\n",
      "Duplicates: 0\n"
     ]
    }
   ],
   "source": [
    "dataset_info(reviews_df, \"Reviews\")"
   ]
  },
  {
   "cell_type": "code",
   "execution_count": 9,
   "metadata": {
    "colab": {
     "base_uri": "https://localhost:8080/"
    },
    "executionInfo": {
     "elapsed": 22,
     "status": "ok",
     "timestamp": 1749196474290,
     "user": {
      "displayName": "collegeratnagiri government",
      "userId": "11950044814894972433"
     },
     "user_tz": -330
    },
    "id": "FYy2VxRV_C1D",
    "outputId": "33981a05-5207-4d3b-f532-7bcedfaa8ed6"
   },
   "outputs": [
    {
     "name": "stdout",
     "output_type": "stream",
     "text": [
      "\n",
      " User History Dataset:\n",
      "<class 'pandas.core.frame.DataFrame'>\n",
      "RangeIndex: 999 entries, 0 to 998\n",
      "Data columns (total 5 columns):\n",
      " #   Column            Non-Null Count  Dtype \n",
      "---  ------            --------------  ----- \n",
      " 0   HistoryID         999 non-null    int64 \n",
      " 1   UserID            999 non-null    int64 \n",
      " 2   DestinationID     999 non-null    int64 \n",
      " 3   VisitDate         999 non-null    object\n",
      " 4   ExperienceRating  999 non-null    int64 \n",
      "dtypes: int64(4), object(1)\n",
      "memory usage: 39.2+ KB\n",
      "None\n",
      "        HistoryID      UserID  DestinationID  ExperienceRating\n",
      "count  999.000000  999.000000     999.000000        999.000000\n",
      "mean   500.000000  497.216216     493.551552          2.904905\n",
      "std    288.530761  290.579414     296.684196          1.397810\n",
      "min      1.000000    1.000000       2.000000          1.000000\n",
      "25%    250.500000  258.500000     236.000000          2.000000\n",
      "50%    500.000000  497.000000     472.000000          3.000000\n",
      "75%    749.500000  752.000000     760.500000          4.000000\n",
      "max    999.000000  999.000000    1000.000000          5.000000\n",
      "Missing values: HistoryID           0\n",
      "UserID              0\n",
      "DestinationID       0\n",
      "VisitDate           0\n",
      "ExperienceRating    0\n",
      "dtype: int64\n",
      "Duplicates: 0\n"
     ]
    }
   ],
   "source": [
    "dataset_info(userhistory_df, \"User History\")"
   ]
  },
  {
   "cell_type": "code",
   "execution_count": 10,
   "metadata": {
    "colab": {
     "base_uri": "https://localhost:8080/",
     "height": 206
    },
    "executionInfo": {
     "elapsed": 347,
     "status": "ok",
     "timestamp": 1749196477166,
     "user": {
      "displayName": "collegeratnagiri government",
      "userId": "11950044814894972433"
     },
     "user_tz": -330
    },
    "id": "pNwhQ9AO_HCq",
    "outputId": "de9cd433-0971-4f2e-d610-3792a45133e8"
   },
   "outputs": [
    {
     "data": {
      "text/html": [
       "<div>\n",
       "<style scoped>\n",
       "    .dataframe tbody tr th:only-of-type {\n",
       "        vertical-align: middle;\n",
       "    }\n",
       "\n",
       "    .dataframe tbody tr th {\n",
       "        vertical-align: top;\n",
       "    }\n",
       "\n",
       "    .dataframe thead th {\n",
       "        text-align: right;\n",
       "    }\n",
       "</style>\n",
       "<table border=\"1\" class=\"dataframe\">\n",
       "  <thead>\n",
       "    <tr style=\"text-align: right;\">\n",
       "      <th></th>\n",
       "      <th>UserID</th>\n",
       "      <th>Name</th>\n",
       "      <th>Email</th>\n",
       "      <th>Preferences</th>\n",
       "      <th>Gender</th>\n",
       "      <th>NumberOfAdults</th>\n",
       "      <th>NumberOfChildren</th>\n",
       "    </tr>\n",
       "  </thead>\n",
       "  <tbody>\n",
       "    <tr>\n",
       "      <th>0</th>\n",
       "      <td>1</td>\n",
       "      <td>Kavya</td>\n",
       "      <td>kavya@example.com</td>\n",
       "      <td>Beaches, Historical</td>\n",
       "      <td>Female</td>\n",
       "      <td>1</td>\n",
       "      <td>0</td>\n",
       "    </tr>\n",
       "    <tr>\n",
       "      <th>1</th>\n",
       "      <td>2</td>\n",
       "      <td>Rohan</td>\n",
       "      <td>rohan@example.com</td>\n",
       "      <td>Nature, Adventure</td>\n",
       "      <td>Male</td>\n",
       "      <td>2</td>\n",
       "      <td>2</td>\n",
       "    </tr>\n",
       "    <tr>\n",
       "      <th>2</th>\n",
       "      <td>3</td>\n",
       "      <td>Kavya</td>\n",
       "      <td>kavya@example.com</td>\n",
       "      <td>City, Historical</td>\n",
       "      <td>Female</td>\n",
       "      <td>2</td>\n",
       "      <td>0</td>\n",
       "    </tr>\n",
       "    <tr>\n",
       "      <th>3</th>\n",
       "      <td>4</td>\n",
       "      <td>Anika</td>\n",
       "      <td>anika@example.com</td>\n",
       "      <td>Beaches, Historical</td>\n",
       "      <td>Female</td>\n",
       "      <td>1</td>\n",
       "      <td>0</td>\n",
       "    </tr>\n",
       "    <tr>\n",
       "      <th>4</th>\n",
       "      <td>5</td>\n",
       "      <td>Tanvi</td>\n",
       "      <td>tanvi@example.com</td>\n",
       "      <td>Nature, Adventure</td>\n",
       "      <td>Female</td>\n",
       "      <td>2</td>\n",
       "      <td>2</td>\n",
       "    </tr>\n",
       "  </tbody>\n",
       "</table>\n",
       "</div>"
      ],
      "text/plain": [
       "   UserID   Name              Email          Preferences  Gender  \\\n",
       "0       1  Kavya  kavya@example.com  Beaches, Historical  Female   \n",
       "1       2  Rohan  rohan@example.com    Nature, Adventure    Male   \n",
       "2       3  Kavya  kavya@example.com     City, Historical  Female   \n",
       "3       4  Anika  anika@example.com  Beaches, Historical  Female   \n",
       "4       5  Tanvi  tanvi@example.com    Nature, Adventure  Female   \n",
       "\n",
       "   NumberOfAdults  NumberOfChildren  \n",
       "0               1                 0  \n",
       "1               2                 2  \n",
       "2               2                 0  \n",
       "3               1                 0  \n",
       "4               2                 2  "
      ]
     },
     "execution_count": 10,
     "metadata": {},
     "output_type": "execute_result"
    }
   ],
   "source": [
    "users_df.head()"
   ]
  },
  {
   "cell_type": "code",
   "execution_count": 11,
   "metadata": {
    "colab": {
     "base_uri": "https://localhost:8080/",
     "height": 206
    },
    "executionInfo": {
     "elapsed": 62,
     "status": "ok",
     "timestamp": 1749196482519,
     "user": {
      "displayName": "collegeratnagiri government",
      "userId": "11950044814894972433"
     },
     "user_tz": -330
    },
    "id": "AYMe-V7L_LDq",
    "outputId": "97d500e1-c4a6-47a0-a089-3faf7deacbcf"
   },
   "outputs": [
    {
     "data": {
      "text/html": [
       "<div>\n",
       "<style scoped>\n",
       "    .dataframe tbody tr th:only-of-type {\n",
       "        vertical-align: middle;\n",
       "    }\n",
       "\n",
       "    .dataframe tbody tr th {\n",
       "        vertical-align: top;\n",
       "    }\n",
       "\n",
       "    .dataframe thead th {\n",
       "        text-align: right;\n",
       "    }\n",
       "</style>\n",
       "<table border=\"1\" class=\"dataframe\">\n",
       "  <thead>\n",
       "    <tr style=\"text-align: right;\">\n",
       "      <th></th>\n",
       "      <th>DestinationID</th>\n",
       "      <th>Name</th>\n",
       "      <th>State</th>\n",
       "      <th>Type</th>\n",
       "      <th>Popularity</th>\n",
       "      <th>BestTimeToVisit</th>\n",
       "    </tr>\n",
       "  </thead>\n",
       "  <tbody>\n",
       "    <tr>\n",
       "      <th>0</th>\n",
       "      <td>1</td>\n",
       "      <td>Taj Mahal</td>\n",
       "      <td>Uttar Pradesh</td>\n",
       "      <td>Historical</td>\n",
       "      <td>8.691906</td>\n",
       "      <td>Nov-Feb</td>\n",
       "    </tr>\n",
       "    <tr>\n",
       "      <th>1</th>\n",
       "      <td>2</td>\n",
       "      <td>Goa Beaches</td>\n",
       "      <td>Goa</td>\n",
       "      <td>Beach</td>\n",
       "      <td>8.605032</td>\n",
       "      <td>Nov-Mar</td>\n",
       "    </tr>\n",
       "    <tr>\n",
       "      <th>2</th>\n",
       "      <td>3</td>\n",
       "      <td>Jaipur City</td>\n",
       "      <td>Rajasthan</td>\n",
       "      <td>City</td>\n",
       "      <td>9.225372</td>\n",
       "      <td>Oct-Mar</td>\n",
       "    </tr>\n",
       "    <tr>\n",
       "      <th>3</th>\n",
       "      <td>4</td>\n",
       "      <td>Kerala Backwaters</td>\n",
       "      <td>Kerala</td>\n",
       "      <td>Nature</td>\n",
       "      <td>7.977386</td>\n",
       "      <td>Sep-Mar</td>\n",
       "    </tr>\n",
       "    <tr>\n",
       "      <th>4</th>\n",
       "      <td>5</td>\n",
       "      <td>Leh Ladakh</td>\n",
       "      <td>Jammu and Kashmir</td>\n",
       "      <td>Adventure</td>\n",
       "      <td>8.399822</td>\n",
       "      <td>Apr-Jun</td>\n",
       "    </tr>\n",
       "  </tbody>\n",
       "</table>\n",
       "</div>"
      ],
      "text/plain": [
       "   DestinationID               Name              State        Type  \\\n",
       "0              1          Taj Mahal      Uttar Pradesh  Historical   \n",
       "1              2        Goa Beaches                Goa       Beach   \n",
       "2              3        Jaipur City          Rajasthan        City   \n",
       "3              4  Kerala Backwaters             Kerala      Nature   \n",
       "4              5         Leh Ladakh  Jammu and Kashmir   Adventure   \n",
       "\n",
       "   Popularity BestTimeToVisit  \n",
       "0    8.691906         Nov-Feb  \n",
       "1    8.605032         Nov-Mar  \n",
       "2    9.225372         Oct-Mar  \n",
       "3    7.977386         Sep-Mar  \n",
       "4    8.399822         Apr-Jun  "
      ]
     },
     "execution_count": 11,
     "metadata": {},
     "output_type": "execute_result"
    }
   ],
   "source": [
    "destinations_df.head()"
   ]
  },
  {
   "cell_type": "code",
   "execution_count": 12,
   "metadata": {
    "colab": {
     "base_uri": "https://localhost:8080/",
     "height": 206
    },
    "executionInfo": {
     "elapsed": 25,
     "status": "ok",
     "timestamp": 1749196485934,
     "user": {
      "displayName": "collegeratnagiri government",
      "userId": "11950044814894972433"
     },
     "user_tz": -330
    },
    "id": "6USBx6xN_RjT",
    "outputId": "90f76212-6c46-4f99-d7e2-8b1574f02819"
   },
   "outputs": [
    {
     "data": {
      "text/html": [
       "<div>\n",
       "<style scoped>\n",
       "    .dataframe tbody tr th:only-of-type {\n",
       "        vertical-align: middle;\n",
       "    }\n",
       "\n",
       "    .dataframe tbody tr th {\n",
       "        vertical-align: top;\n",
       "    }\n",
       "\n",
       "    .dataframe thead th {\n",
       "        text-align: right;\n",
       "    }\n",
       "</style>\n",
       "<table border=\"1\" class=\"dataframe\">\n",
       "  <thead>\n",
       "    <tr style=\"text-align: right;\">\n",
       "      <th></th>\n",
       "      <th>ReviewID</th>\n",
       "      <th>DestinationID</th>\n",
       "      <th>UserID</th>\n",
       "      <th>Rating</th>\n",
       "      <th>ReviewText</th>\n",
       "    </tr>\n",
       "  </thead>\n",
       "  <tbody>\n",
       "    <tr>\n",
       "      <th>0</th>\n",
       "      <td>1</td>\n",
       "      <td>178</td>\n",
       "      <td>327</td>\n",
       "      <td>2</td>\n",
       "      <td>Incredible monument!</td>\n",
       "    </tr>\n",
       "    <tr>\n",
       "      <th>1</th>\n",
       "      <td>2</td>\n",
       "      <td>411</td>\n",
       "      <td>783</td>\n",
       "      <td>1</td>\n",
       "      <td>Loved the beaches!</td>\n",
       "    </tr>\n",
       "    <tr>\n",
       "      <th>2</th>\n",
       "      <td>3</td>\n",
       "      <td>927</td>\n",
       "      <td>12</td>\n",
       "      <td>2</td>\n",
       "      <td>A historical wonder</td>\n",
       "    </tr>\n",
       "    <tr>\n",
       "      <th>3</th>\n",
       "      <td>4</td>\n",
       "      <td>358</td>\n",
       "      <td>959</td>\n",
       "      <td>3</td>\n",
       "      <td>Incredible monument!</td>\n",
       "    </tr>\n",
       "    <tr>\n",
       "      <th>4</th>\n",
       "      <td>5</td>\n",
       "      <td>989</td>\n",
       "      <td>353</td>\n",
       "      <td>2</td>\n",
       "      <td>Loved the beaches!</td>\n",
       "    </tr>\n",
       "  </tbody>\n",
       "</table>\n",
       "</div>"
      ],
      "text/plain": [
       "   ReviewID  DestinationID  UserID  Rating            ReviewText\n",
       "0         1            178     327       2  Incredible monument!\n",
       "1         2            411     783       1    Loved the beaches!\n",
       "2         3            927      12       2   A historical wonder\n",
       "3         4            358     959       3  Incredible monument!\n",
       "4         5            989     353       2    Loved the beaches!"
      ]
     },
     "execution_count": 12,
     "metadata": {},
     "output_type": "execute_result"
    }
   ],
   "source": [
    "reviews_df.head()"
   ]
  },
  {
   "cell_type": "code",
   "execution_count": 13,
   "metadata": {
    "colab": {
     "base_uri": "https://localhost:8080/",
     "height": 206
    },
    "executionInfo": {
     "elapsed": 433,
     "status": "ok",
     "timestamp": 1749196488505,
     "user": {
      "displayName": "collegeratnagiri government",
      "userId": "11950044814894972433"
     },
     "user_tz": -330
    },
    "id": "v35DgMLW_ZUL",
    "outputId": "7d64a98d-6924-4204-86dc-817c2b09e7ae"
   },
   "outputs": [
    {
     "data": {
      "text/html": [
       "<div>\n",
       "<style scoped>\n",
       "    .dataframe tbody tr th:only-of-type {\n",
       "        vertical-align: middle;\n",
       "    }\n",
       "\n",
       "    .dataframe tbody tr th {\n",
       "        vertical-align: top;\n",
       "    }\n",
       "\n",
       "    .dataframe thead th {\n",
       "        text-align: right;\n",
       "    }\n",
       "</style>\n",
       "<table border=\"1\" class=\"dataframe\">\n",
       "  <thead>\n",
       "    <tr style=\"text-align: right;\">\n",
       "      <th></th>\n",
       "      <th>HistoryID</th>\n",
       "      <th>UserID</th>\n",
       "      <th>DestinationID</th>\n",
       "      <th>VisitDate</th>\n",
       "      <th>ExperienceRating</th>\n",
       "    </tr>\n",
       "  </thead>\n",
       "  <tbody>\n",
       "    <tr>\n",
       "      <th>0</th>\n",
       "      <td>1</td>\n",
       "      <td>525</td>\n",
       "      <td>760</td>\n",
       "      <td>2024-01-01</td>\n",
       "      <td>3</td>\n",
       "    </tr>\n",
       "    <tr>\n",
       "      <th>1</th>\n",
       "      <td>2</td>\n",
       "      <td>184</td>\n",
       "      <td>532</td>\n",
       "      <td>2024-02-15</td>\n",
       "      <td>5</td>\n",
       "    </tr>\n",
       "    <tr>\n",
       "      <th>2</th>\n",
       "      <td>3</td>\n",
       "      <td>897</td>\n",
       "      <td>786</td>\n",
       "      <td>2024-03-20</td>\n",
       "      <td>2</td>\n",
       "    </tr>\n",
       "    <tr>\n",
       "      <th>3</th>\n",
       "      <td>4</td>\n",
       "      <td>470</td>\n",
       "      <td>660</td>\n",
       "      <td>2024-01-01</td>\n",
       "      <td>1</td>\n",
       "    </tr>\n",
       "    <tr>\n",
       "      <th>4</th>\n",
       "      <td>5</td>\n",
       "      <td>989</td>\n",
       "      <td>389</td>\n",
       "      <td>2024-02-15</td>\n",
       "      <td>4</td>\n",
       "    </tr>\n",
       "  </tbody>\n",
       "</table>\n",
       "</div>"
      ],
      "text/plain": [
       "   HistoryID  UserID  DestinationID   VisitDate  ExperienceRating\n",
       "0          1     525            760  2024-01-01                 3\n",
       "1          2     184            532  2024-02-15                 5\n",
       "2          3     897            786  2024-03-20                 2\n",
       "3          4     470            660  2024-01-01                 1\n",
       "4          5     989            389  2024-02-15                 4"
      ]
     },
     "execution_count": 13,
     "metadata": {},
     "output_type": "execute_result"
    }
   ],
   "source": [
    "userhistory_df.head()"
   ]
  },
  {
   "cell_type": "markdown",
   "metadata": {},
   "source": [
    "## Data Cleaning and Data Preprocessing "
   ]
  },
  {
   "cell_type": "code",
   "execution_count": 14,
   "metadata": {
    "colab": {
     "base_uri": "https://localhost:8080/",
     "height": 617
    },
    "executionInfo": {
     "elapsed": 597,
     "status": "ok",
     "timestamp": 1749196494341,
     "user": {
      "displayName": "collegeratnagiri government",
      "userId": "11950044814894972433"
     },
     "user_tz": -330
    },
    "id": "_0tDMH_Q_i7s",
    "outputId": "db3ec714-bca6-4b77-a9b2-00f6027db3ff"
   },
   "outputs": [
    {
     "data": {
      "text/html": [
       "<div>\n",
       "<style scoped>\n",
       "    .dataframe tbody tr th:only-of-type {\n",
       "        vertical-align: middle;\n",
       "    }\n",
       "\n",
       "    .dataframe tbody tr th {\n",
       "        vertical-align: top;\n",
       "    }\n",
       "\n",
       "    .dataframe thead th {\n",
       "        text-align: right;\n",
       "    }\n",
       "</style>\n",
       "<table border=\"1\" class=\"dataframe\">\n",
       "  <thead>\n",
       "    <tr style=\"text-align: right;\">\n",
       "      <th></th>\n",
       "      <th>ReviewID</th>\n",
       "      <th>DestinationID_x</th>\n",
       "      <th>UserID</th>\n",
       "      <th>Rating</th>\n",
       "      <th>ReviewText</th>\n",
       "      <th>Name_x</th>\n",
       "      <th>State</th>\n",
       "      <th>Type</th>\n",
       "      <th>Popularity</th>\n",
       "      <th>BestTimeToVisit</th>\n",
       "      <th>HistoryID</th>\n",
       "      <th>DestinationID_y</th>\n",
       "      <th>VisitDate</th>\n",
       "      <th>ExperienceRating</th>\n",
       "      <th>Name_y</th>\n",
       "      <th>Email</th>\n",
       "      <th>Preferences</th>\n",
       "      <th>Gender</th>\n",
       "      <th>NumberOfAdults</th>\n",
       "      <th>NumberOfChildren</th>\n",
       "    </tr>\n",
       "  </thead>\n",
       "  <tbody>\n",
       "    <tr>\n",
       "      <th>0</th>\n",
       "      <td>1</td>\n",
       "      <td>178</td>\n",
       "      <td>327</td>\n",
       "      <td>2</td>\n",
       "      <td>Incredible monument!</td>\n",
       "      <td>Jaipur City</td>\n",
       "      <td>Rajasthan</td>\n",
       "      <td>City</td>\n",
       "      <td>8.544352</td>\n",
       "      <td>Oct-Mar</td>\n",
       "      <td>79</td>\n",
       "      <td>175</td>\n",
       "      <td>2024-01-01</td>\n",
       "      <td>3</td>\n",
       "      <td>Pooja</td>\n",
       "      <td>pooja@example.com</td>\n",
       "      <td>City, Historical</td>\n",
       "      <td>Female</td>\n",
       "      <td>1</td>\n",
       "      <td>1</td>\n",
       "    </tr>\n",
       "    <tr>\n",
       "      <th>1</th>\n",
       "      <td>2</td>\n",
       "      <td>411</td>\n",
       "      <td>783</td>\n",
       "      <td>1</td>\n",
       "      <td>Loved the beaches!</td>\n",
       "      <td>Taj Mahal</td>\n",
       "      <td>Uttar Pradesh</td>\n",
       "      <td>Historical</td>\n",
       "      <td>8.284127</td>\n",
       "      <td>Nov-Feb</td>\n",
       "      <td>834</td>\n",
       "      <td>894</td>\n",
       "      <td>2024-03-20</td>\n",
       "      <td>2</td>\n",
       "      <td>Karan</td>\n",
       "      <td>karan@example.com</td>\n",
       "      <td>City, Historical</td>\n",
       "      <td>Male</td>\n",
       "      <td>1</td>\n",
       "      <td>1</td>\n",
       "    </tr>\n",
       "    <tr>\n",
       "      <th>2</th>\n",
       "      <td>4</td>\n",
       "      <td>358</td>\n",
       "      <td>959</td>\n",
       "      <td>3</td>\n",
       "      <td>Incredible monument!</td>\n",
       "      <td>Jaipur City</td>\n",
       "      <td>Rajasthan</td>\n",
       "      <td>City</td>\n",
       "      <td>7.738761</td>\n",
       "      <td>Oct-Mar</td>\n",
       "      <td>998</td>\n",
       "      <td>660</td>\n",
       "      <td>2024-02-15</td>\n",
       "      <td>4</td>\n",
       "      <td>Ritvik</td>\n",
       "      <td>ritvik@example.com</td>\n",
       "      <td>Nature, Adventure</td>\n",
       "      <td>Male</td>\n",
       "      <td>1</td>\n",
       "      <td>1</td>\n",
       "    </tr>\n",
       "    <tr>\n",
       "      <th>3</th>\n",
       "      <td>5</td>\n",
       "      <td>989</td>\n",
       "      <td>353</td>\n",
       "      <td>2</td>\n",
       "      <td>Loved the beaches!</td>\n",
       "      <td>Kerala Backwaters</td>\n",
       "      <td>Kerala</td>\n",
       "      <td>Nature</td>\n",
       "      <td>8.208088</td>\n",
       "      <td>Sep-Mar</td>\n",
       "      <td>202</td>\n",
       "      <td>894</td>\n",
       "      <td>2024-01-01</td>\n",
       "      <td>5</td>\n",
       "      <td>Isha</td>\n",
       "      <td>isha@example.com</td>\n",
       "      <td>Nature, Adventure</td>\n",
       "      <td>Female</td>\n",
       "      <td>2</td>\n",
       "      <td>0</td>\n",
       "    </tr>\n",
       "    <tr>\n",
       "      <th>4</th>\n",
       "      <td>6</td>\n",
       "      <td>473</td>\n",
       "      <td>408</td>\n",
       "      <td>4</td>\n",
       "      <td>A historical wonder</td>\n",
       "      <td>Jaipur City</td>\n",
       "      <td>Rajasthan</td>\n",
       "      <td>City</td>\n",
       "      <td>8.138558</td>\n",
       "      <td>Oct-Mar</td>\n",
       "      <td>331</td>\n",
       "      <td>403</td>\n",
       "      <td>2024-01-01</td>\n",
       "      <td>2</td>\n",
       "      <td>Ishaan</td>\n",
       "      <td>ishaan@example.com</td>\n",
       "      <td>City, Historical</td>\n",
       "      <td>Male</td>\n",
       "      <td>2</td>\n",
       "      <td>0</td>\n",
       "    </tr>\n",
       "    <tr>\n",
       "      <th>...</th>\n",
       "      <td>...</td>\n",
       "      <td>...</td>\n",
       "      <td>...</td>\n",
       "      <td>...</td>\n",
       "      <td>...</td>\n",
       "      <td>...</td>\n",
       "      <td>...</td>\n",
       "      <td>...</td>\n",
       "      <td>...</td>\n",
       "      <td>...</td>\n",
       "      <td>...</td>\n",
       "      <td>...</td>\n",
       "      <td>...</td>\n",
       "      <td>...</td>\n",
       "      <td>...</td>\n",
       "      <td>...</td>\n",
       "      <td>...</td>\n",
       "      <td>...</td>\n",
       "      <td>...</td>\n",
       "      <td>...</td>\n",
       "    </tr>\n",
       "    <tr>\n",
       "      <th>988</th>\n",
       "      <td>991</td>\n",
       "      <td>701</td>\n",
       "      <td>850</td>\n",
       "      <td>3</td>\n",
       "      <td>Incredible monument!</td>\n",
       "      <td>Taj Mahal</td>\n",
       "      <td>Uttar Pradesh</td>\n",
       "      <td>Historical</td>\n",
       "      <td>8.814029</td>\n",
       "      <td>Nov-Feb</td>\n",
       "      <td>138</td>\n",
       "      <td>131</td>\n",
       "      <td>2024-03-20</td>\n",
       "      <td>1</td>\n",
       "      <td>Hitesh</td>\n",
       "      <td>hitesh@example.com</td>\n",
       "      <td>Beaches, Historical</td>\n",
       "      <td>Male</td>\n",
       "      <td>2</td>\n",
       "      <td>0</td>\n",
       "    </tr>\n",
       "    <tr>\n",
       "      <th>989</th>\n",
       "      <td>991</td>\n",
       "      <td>701</td>\n",
       "      <td>850</td>\n",
       "      <td>3</td>\n",
       "      <td>Incredible monument!</td>\n",
       "      <td>Taj Mahal</td>\n",
       "      <td>Uttar Pradesh</td>\n",
       "      <td>Historical</td>\n",
       "      <td>8.814029</td>\n",
       "      <td>Nov-Feb</td>\n",
       "      <td>643</td>\n",
       "      <td>761</td>\n",
       "      <td>2024-01-01</td>\n",
       "      <td>4</td>\n",
       "      <td>Hitesh</td>\n",
       "      <td>hitesh@example.com</td>\n",
       "      <td>Beaches, Historical</td>\n",
       "      <td>Male</td>\n",
       "      <td>2</td>\n",
       "      <td>0</td>\n",
       "    </tr>\n",
       "    <tr>\n",
       "      <th>990</th>\n",
       "      <td>995</td>\n",
       "      <td>231</td>\n",
       "      <td>346</td>\n",
       "      <td>5</td>\n",
       "      <td>Loved the beaches!</td>\n",
       "      <td>Taj Mahal</td>\n",
       "      <td>Uttar Pradesh</td>\n",
       "      <td>Historical</td>\n",
       "      <td>7.788256</td>\n",
       "      <td>Nov-Feb</td>\n",
       "      <td>454</td>\n",
       "      <td>113</td>\n",
       "      <td>2024-01-01</td>\n",
       "      <td>2</td>\n",
       "      <td>Hitesh</td>\n",
       "      <td>hitesh@example.com</td>\n",
       "      <td>Beaches, Historical</td>\n",
       "      <td>Male</td>\n",
       "      <td>2</td>\n",
       "      <td>2</td>\n",
       "    </tr>\n",
       "    <tr>\n",
       "      <th>991</th>\n",
       "      <td>995</td>\n",
       "      <td>231</td>\n",
       "      <td>346</td>\n",
       "      <td>5</td>\n",
       "      <td>Loved the beaches!</td>\n",
       "      <td>Taj Mahal</td>\n",
       "      <td>Uttar Pradesh</td>\n",
       "      <td>Historical</td>\n",
       "      <td>7.788256</td>\n",
       "      <td>Nov-Feb</td>\n",
       "      <td>556</td>\n",
       "      <td>128</td>\n",
       "      <td>2024-01-01</td>\n",
       "      <td>4</td>\n",
       "      <td>Hitesh</td>\n",
       "      <td>hitesh@example.com</td>\n",
       "      <td>Beaches, Historical</td>\n",
       "      <td>Male</td>\n",
       "      <td>2</td>\n",
       "      <td>2</td>\n",
       "    </tr>\n",
       "    <tr>\n",
       "      <th>992</th>\n",
       "      <td>997</td>\n",
       "      <td>823</td>\n",
       "      <td>858</td>\n",
       "      <td>5</td>\n",
       "      <td>Incredible monument!</td>\n",
       "      <td>Jaipur City</td>\n",
       "      <td>Rajasthan</td>\n",
       "      <td>City</td>\n",
       "      <td>8.501225</td>\n",
       "      <td>Oct-Mar</td>\n",
       "      <td>423</td>\n",
       "      <td>250</td>\n",
       "      <td>2024-03-20</td>\n",
       "      <td>3</td>\n",
       "      <td>Rohan</td>\n",
       "      <td>rohan@example.com</td>\n",
       "      <td>City, Historical</td>\n",
       "      <td>Male</td>\n",
       "      <td>1</td>\n",
       "      <td>2</td>\n",
       "    </tr>\n",
       "  </tbody>\n",
       "</table>\n",
       "<p>993 rows × 20 columns</p>\n",
       "</div>"
      ],
      "text/plain": [
       "     ReviewID  DestinationID_x  UserID  Rating            ReviewText  \\\n",
       "0           1              178     327       2  Incredible monument!   \n",
       "1           2              411     783       1    Loved the beaches!   \n",
       "2           4              358     959       3  Incredible monument!   \n",
       "3           5              989     353       2    Loved the beaches!   \n",
       "4           6              473     408       4   A historical wonder   \n",
       "..        ...              ...     ...     ...                   ...   \n",
       "988       991              701     850       3  Incredible monument!   \n",
       "989       991              701     850       3  Incredible monument!   \n",
       "990       995              231     346       5    Loved the beaches!   \n",
       "991       995              231     346       5    Loved the beaches!   \n",
       "992       997              823     858       5  Incredible monument!   \n",
       "\n",
       "                Name_x          State        Type  Popularity BestTimeToVisit  \\\n",
       "0          Jaipur City      Rajasthan        City    8.544352         Oct-Mar   \n",
       "1            Taj Mahal  Uttar Pradesh  Historical    8.284127         Nov-Feb   \n",
       "2          Jaipur City      Rajasthan        City    7.738761         Oct-Mar   \n",
       "3    Kerala Backwaters         Kerala      Nature    8.208088         Sep-Mar   \n",
       "4          Jaipur City      Rajasthan        City    8.138558         Oct-Mar   \n",
       "..                 ...            ...         ...         ...             ...   \n",
       "988          Taj Mahal  Uttar Pradesh  Historical    8.814029         Nov-Feb   \n",
       "989          Taj Mahal  Uttar Pradesh  Historical    8.814029         Nov-Feb   \n",
       "990          Taj Mahal  Uttar Pradesh  Historical    7.788256         Nov-Feb   \n",
       "991          Taj Mahal  Uttar Pradesh  Historical    7.788256         Nov-Feb   \n",
       "992        Jaipur City      Rajasthan        City    8.501225         Oct-Mar   \n",
       "\n",
       "     HistoryID  DestinationID_y   VisitDate  ExperienceRating  Name_y  \\\n",
       "0           79              175  2024-01-01                 3   Pooja   \n",
       "1          834              894  2024-03-20                 2   Karan   \n",
       "2          998              660  2024-02-15                 4  Ritvik   \n",
       "3          202              894  2024-01-01                 5    Isha   \n",
       "4          331              403  2024-01-01                 2  Ishaan   \n",
       "..         ...              ...         ...               ...     ...   \n",
       "988        138              131  2024-03-20                 1  Hitesh   \n",
       "989        643              761  2024-01-01                 4  Hitesh   \n",
       "990        454              113  2024-01-01                 2  Hitesh   \n",
       "991        556              128  2024-01-01                 4  Hitesh   \n",
       "992        423              250  2024-03-20                 3   Rohan   \n",
       "\n",
       "                  Email          Preferences  Gender  NumberOfAdults  \\\n",
       "0     pooja@example.com     City, Historical  Female               1   \n",
       "1     karan@example.com     City, Historical    Male               1   \n",
       "2    ritvik@example.com    Nature, Adventure    Male               1   \n",
       "3      isha@example.com    Nature, Adventure  Female               2   \n",
       "4    ishaan@example.com     City, Historical    Male               2   \n",
       "..                  ...                  ...     ...             ...   \n",
       "988  hitesh@example.com  Beaches, Historical    Male               2   \n",
       "989  hitesh@example.com  Beaches, Historical    Male               2   \n",
       "990  hitesh@example.com  Beaches, Historical    Male               2   \n",
       "991  hitesh@example.com  Beaches, Historical    Male               2   \n",
       "992   rohan@example.com     City, Historical    Male               1   \n",
       "\n",
       "     NumberOfChildren  \n",
       "0                   1  \n",
       "1                   1  \n",
       "2                   1  \n",
       "3                   0  \n",
       "4                   0  \n",
       "..                ...  \n",
       "988                 0  \n",
       "989                 0  \n",
       "990                 2  \n",
       "991                 2  \n",
       "992                 2  \n",
       "\n",
       "[993 rows x 20 columns]"
      ]
     },
     "execution_count": 14,
     "metadata": {},
     "output_type": "execute_result"
    }
   ],
   "source": [
    "# Merge datasets\n",
    "\n",
    "reviews_destinations = pd.merge(reviews_df, destinations_df, on='DestinationID', how='inner')\n",
    "\n",
    "reviews_destinations_userhistory = pd.merge(reviews_destinations, userhistory_df, on='UserID', how='inner')\n",
    "\n",
    "df = pd.merge(reviews_destinations_userhistory, users_df, on='UserID', how='inner')\n",
    "\n",
    "df"
   ]
  },
  {
   "cell_type": "code",
   "execution_count": 15,
   "metadata": {
    "colab": {
     "base_uri": "https://localhost:8080/"
    },
    "executionInfo": {
     "elapsed": 133,
     "status": "ok",
     "timestamp": 1749196498023,
     "user": {
      "displayName": "collegeratnagiri government",
      "userId": "11950044814894972433"
     },
     "user_tz": -330
    },
    "id": "hJgJMz16_ozC",
    "outputId": "41e47dbf-c38b-4202-dd5b-0454889e2524"
   },
   "outputs": [
    {
     "data": {
      "text/plain": [
       "(993, 20)"
      ]
     },
     "execution_count": 15,
     "metadata": {},
     "output_type": "execute_result"
    }
   ],
   "source": [
    "df.shape"
   ]
  },
  {
   "cell_type": "code",
   "execution_count": 16,
   "metadata": {
    "executionInfo": {
     "elapsed": 35,
     "status": "ok",
     "timestamp": 1749196499706,
     "user": {
      "displayName": "collegeratnagiri government",
      "userId": "11950044814894972433"
     },
     "user_tz": -330
    },
    "id": "xZHiV9t0_rMq"
   },
   "outputs": [],
   "source": [
    "df.to_csv(\"merge.csv\", index=False)"
   ]
  },
  {
   "cell_type": "code",
   "execution_count": 17,
   "metadata": {
    "colab": {
     "base_uri": "https://localhost:8080/"
    },
    "executionInfo": {
     "elapsed": 19,
     "status": "ok",
     "timestamp": 1749196501975,
     "user": {
      "displayName": "collegeratnagiri government",
      "userId": "11950044814894972433"
     },
     "user_tz": -330
    },
    "id": "lyN0RXzW_u2T",
    "outputId": "26e25616-40b5-4f86-f344-ff1fbb6ba997"
   },
   "outputs": [
    {
     "data": {
      "text/plain": [
       "np.int64(0)"
      ]
     },
     "execution_count": 17,
     "metadata": {},
     "output_type": "execute_result"
    }
   ],
   "source": [
    "df.duplicated().sum()"
   ]
  },
  {
   "cell_type": "code",
   "execution_count": 18,
   "metadata": {
    "colab": {
     "base_uri": "https://localhost:8080/",
     "height": 711
    },
    "executionInfo": {
     "elapsed": 49,
     "status": "ok",
     "timestamp": 1749196503824,
     "user": {
      "displayName": "collegeratnagiri government",
      "userId": "11950044814894972433"
     },
     "user_tz": -330
    },
    "id": "S09wl5-C_x1E",
    "outputId": "d203d3db-75ab-44ba-f1da-98bb7df151b7"
   },
   "outputs": [
    {
     "data": {
      "text/plain": [
       "ReviewID            0\n",
       "DestinationID_x     0\n",
       "UserID              0\n",
       "Rating              0\n",
       "ReviewText          0\n",
       "Name_x              0\n",
       "State               0\n",
       "Type                0\n",
       "Popularity          0\n",
       "BestTimeToVisit     0\n",
       "HistoryID           0\n",
       "DestinationID_y     0\n",
       "VisitDate           0\n",
       "ExperienceRating    0\n",
       "Name_y              0\n",
       "Email               0\n",
       "Preferences         0\n",
       "Gender              0\n",
       "NumberOfAdults      0\n",
       "NumberOfChildren    0\n",
       "dtype: int64"
      ]
     },
     "execution_count": 18,
     "metadata": {},
     "output_type": "execute_result"
    }
   ],
   "source": [
    "df.isnull().sum()"
   ]
  },
  {
   "cell_type": "markdown",
   "metadata": {},
   "source": [
    "## Exploratory Data Analysis (EDA)"
   ]
  },
  {
   "cell_type": "code",
   "execution_count": 19,
   "metadata": {
    "colab": {
     "base_uri": "https://localhost:8080/",
     "height": 651
    },
    "executionInfo": {
     "elapsed": 856,
     "status": "ok",
     "timestamp": 1749196510039,
     "user": {
      "displayName": "collegeratnagiri government",
      "userId": "11950044814894972433"
     },
     "user_tz": -330
    },
    "id": "gvsIQygI_0y7",
    "outputId": "06058112-1e5d-4048-a52e-4e5c49c9d114"
   },
   "outputs": [
    {
     "data": {
      "image/png": "[encoded data removed]",
      "text/plain": [
       "<Figure size 1000x600 with 1 Axes>"
      ]
     },
     "metadata": {},
     "output_type": "display_data"
    }
   ],
   "source": [
    "plt.figure(figsize=(10, 6))\n",
    "sns.barplot(y='Name', x='Popularity', data=destinations_df.sort_values(by='Popularity', ascending=True), palette='coolwarm')\n",
    "plt.title('Most Popular Destinations')\n",
    "plt.xlabel('Popularity Score')\n",
    "plt.ylabel('Destination')\n",
    "plt.show()\n"
   ]
  },
  {
   "cell_type": "code",
   "execution_count": 20,
   "metadata": {
    "colab": {
     "base_uri": "https://localhost:8080/",
     "height": 272
    },
    "executionInfo": {
     "elapsed": 66,
     "status": "ok",
     "timestamp": 1749196513167,
     "user": {
      "displayName": "collegeratnagiri government",
      "userId": "11950044814894972433"
     },
     "user_tz": -330
    },
    "id": "NjNwgfYn_84S",
    "outputId": "5b9ddff7-ff85-48ba-be69-fbd9dc78bee4"
   },
   "outputs": [
    {
     "data": {
      "text/plain": [
       "Type\n",
       "Historical    200\n",
       "Beach         200\n",
       "City          200\n",
       "Nature        200\n",
       "Adventure     200\n",
       "Name: count, dtype: int64"
      ]
     },
     "execution_count": 20,
     "metadata": {},
     "output_type": "execute_result"
    }
   ],
   "source": [
    "destinations_df['Type'].value_counts()"
   ]
  },
  {
   "cell_type": "code",
   "execution_count": 21,
   "metadata": {
    "colab": {
     "base_uri": "https://localhost:8080/",
     "height": 651
    },
    "executionInfo": {
     "elapsed": 1311,
     "status": "ok",
     "timestamp": 1749196526722,
     "user": {
      "displayName": "collegeratnagiri government",
      "userId": "11950044814894972433"
     },
     "user_tz": -330
    },
    "id": "AHnCSqJ5AAfK",
    "outputId": "09359b24-d31f-437e-ec05-45c7020ec098"
   },
   "outputs": [
    {
     "data": {
      "image/png": "[encoded data removed]",
      "text/plain": [
       "<Figure size 800x600 with 1 Axes>"
      ]
     },
     "metadata": {},
     "output_type": "display_data"
    }
   ],
   "source": [
    "plt.figure(figsize=(8, 6))\n",
    "sns.countplot(y='BestTimeToVisit', data=destinations_df, order=destinations_df['BestTimeToVisit'].value_counts().index, palette='mako')\n",
    "plt.title('Best Time to Visit Destinations')\n",
    "plt.xlabel('Count')\n",
    "plt.ylabel('Season')\n",
    "plt.show()"
   ]
  },
  {
   "cell_type": "code",
   "execution_count": 22,
   "metadata": {
    "colab": {
     "base_uri": "https://localhost:8080/",
     "height": 598
    },
    "executionInfo": {
     "elapsed": 49,
     "status": "ok",
     "timestamp": 1749196396110,
     "user": {
      "displayName": "collegeratnagiri government",
      "userId": "11950044814894972433"
     },
     "user_tz": -330
    },
    "id": "fp-L-9zwADy7",
    "outputId": "07f854eb-0157-4082-9a20-32d22cab7f54"
   },
   "outputs": [
    {
     "data": {
      "image/png": "[encoded data removed]",
      "text/plain": [
       "<Figure size 700x700 with 1 Axes>"
      ]
     },
     "metadata": {},
     "output_type": "display_data"
    }
   ],
   "source": [
    "plt.figure(figsize=(7, 7))\n",
    "destinations_df['Type'].value_counts().plot(kind='pie', autopct='%1.1f%%', colors=sns.color_palette('coolwarm', n_colors=len(destinations_df['Type'].unique())))\n",
    "plt.title('Distribution of Destination Types')\n",
    "plt.ylabel('')  # Hides the y-axis label\n",
    "plt.show()"
   ]
  },
  {
   "cell_type": "code",
   "execution_count": 23,
   "metadata": {},
   "outputs": [
    {
     "data": {
      "image/png": "[encoded data removed]",
      "text/plain": [
       "<Figure size 800x600 with 1 Axes>"
      ]
     },
     "metadata": {},
     "output_type": "display_data"
    }
   ],
   "source": [
    "# Check distribution of ratings\n",
    "plt.figure(figsize=(8, 6))\n",
    "sns.histplot(reviews_df['Rating'], bins=5, kde=True, color='blue')\n",
    "plt.title('Distribution of Ratings')\n",
    "plt.xlabel('Rating')\n",
    "plt.ylabel('Frequency')\n",
    "plt.show()"
   ]
  },
  {
   "cell_type": "code",
   "execution_count": 24,
   "metadata": {
    "colab": {
     "base_uri": "https://localhost:8080/",
     "height": 617
    },
    "executionInfo": {
     "elapsed": 89,
     "status": "ok",
     "timestamp": 1749196532821,
     "user": {
      "displayName": "collegeratnagiri government",
      "userId": "11950044814894972433"
     },
     "user_tz": -330
    },
    "id": "GKIpFEqxO7U6",
    "outputId": "6aac01dc-6d29-4b9b-d192-4b2ed2c6a118"
   },
   "outputs": [
    {
     "data": {
      "text/html": [
       "<div>\n",
       "<style scoped>\n",
       "    .dataframe tbody tr th:only-of-type {\n",
       "        vertical-align: middle;\n",
       "    }\n",
       "\n",
       "    .dataframe tbody tr th {\n",
       "        vertical-align: top;\n",
       "    }\n",
       "\n",
       "    .dataframe thead th {\n",
       "        text-align: right;\n",
       "    }\n",
       "</style>\n",
       "<table border=\"1\" class=\"dataframe\">\n",
       "  <thead>\n",
       "    <tr style=\"text-align: right;\">\n",
       "      <th></th>\n",
       "      <th>ReviewID</th>\n",
       "      <th>DestinationID_x</th>\n",
       "      <th>UserID</th>\n",
       "      <th>Rating</th>\n",
       "      <th>ReviewText</th>\n",
       "      <th>Name_x</th>\n",
       "      <th>State</th>\n",
       "      <th>Type</th>\n",
       "      <th>Popularity</th>\n",
       "      <th>BestTimeToVisit</th>\n",
       "      <th>HistoryID</th>\n",
       "      <th>DestinationID_y</th>\n",
       "      <th>VisitDate</th>\n",
       "      <th>ExperienceRating</th>\n",
       "      <th>Name_y</th>\n",
       "      <th>Email</th>\n",
       "      <th>Preferences</th>\n",
       "      <th>Gender</th>\n",
       "      <th>NumberOfAdults</th>\n",
       "      <th>NumberOfChildren</th>\n",
       "    </tr>\n",
       "  </thead>\n",
       "  <tbody>\n",
       "    <tr>\n",
       "      <th>0</th>\n",
       "      <td>1</td>\n",
       "      <td>178</td>\n",
       "      <td>327</td>\n",
       "      <td>2</td>\n",
       "      <td>Incredible monument!</td>\n",
       "      <td>Jaipur City</td>\n",
       "      <td>Rajasthan</td>\n",
       "      <td>City</td>\n",
       "      <td>8.544352</td>\n",
       "      <td>Oct-Mar</td>\n",
       "      <td>79</td>\n",
       "      <td>175</td>\n",
       "      <td>2024-01-01</td>\n",
       "      <td>3</td>\n",
       "      <td>Pooja</td>\n",
       "      <td>pooja@example.com</td>\n",
       "      <td>City, Historical</td>\n",
       "      <td>Female</td>\n",
       "      <td>1</td>\n",
       "      <td>1</td>\n",
       "    </tr>\n",
       "    <tr>\n",
       "      <th>1</th>\n",
       "      <td>2</td>\n",
       "      <td>411</td>\n",
       "      <td>783</td>\n",
       "      <td>1</td>\n",
       "      <td>Loved the beaches!</td>\n",
       "      <td>Taj Mahal</td>\n",
       "      <td>Uttar Pradesh</td>\n",
       "      <td>Historical</td>\n",
       "      <td>8.284127</td>\n",
       "      <td>Nov-Feb</td>\n",
       "      <td>834</td>\n",
       "      <td>894</td>\n",
       "      <td>2024-03-20</td>\n",
       "      <td>2</td>\n",
       "      <td>Karan</td>\n",
       "      <td>karan@example.com</td>\n",
       "      <td>City, Historical</td>\n",
       "      <td>Male</td>\n",
       "      <td>1</td>\n",
       "      <td>1</td>\n",
       "    </tr>\n",
       "    <tr>\n",
       "      <th>2</th>\n",
       "      <td>4</td>\n",
       "      <td>358</td>\n",
       "      <td>959</td>\n",
       "      <td>3</td>\n",
       "      <td>Incredible monument!</td>\n",
       "      <td>Jaipur City</td>\n",
       "      <td>Rajasthan</td>\n",
       "      <td>City</td>\n",
       "      <td>7.738761</td>\n",
       "      <td>Oct-Mar</td>\n",
       "      <td>998</td>\n",
       "      <td>660</td>\n",
       "      <td>2024-02-15</td>\n",
       "      <td>4</td>\n",
       "      <td>Ritvik</td>\n",
       "      <td>ritvik@example.com</td>\n",
       "      <td>Nature, Adventure</td>\n",
       "      <td>Male</td>\n",
       "      <td>1</td>\n",
       "      <td>1</td>\n",
       "    </tr>\n",
       "    <tr>\n",
       "      <th>3</th>\n",
       "      <td>5</td>\n",
       "      <td>989</td>\n",
       "      <td>353</td>\n",
       "      <td>2</td>\n",
       "      <td>Loved the beaches!</td>\n",
       "      <td>Kerala Backwaters</td>\n",
       "      <td>Kerala</td>\n",
       "      <td>Nature</td>\n",
       "      <td>8.208088</td>\n",
       "      <td>Sep-Mar</td>\n",
       "      <td>202</td>\n",
       "      <td>894</td>\n",
       "      <td>2024-01-01</td>\n",
       "      <td>5</td>\n",
       "      <td>Isha</td>\n",
       "      <td>isha@example.com</td>\n",
       "      <td>Nature, Adventure</td>\n",
       "      <td>Female</td>\n",
       "      <td>2</td>\n",
       "      <td>0</td>\n",
       "    </tr>\n",
       "    <tr>\n",
       "      <th>4</th>\n",
       "      <td>6</td>\n",
       "      <td>473</td>\n",
       "      <td>408</td>\n",
       "      <td>4</td>\n",
       "      <td>A historical wonder</td>\n",
       "      <td>Jaipur City</td>\n",
       "      <td>Rajasthan</td>\n",
       "      <td>City</td>\n",
       "      <td>8.138558</td>\n",
       "      <td>Oct-Mar</td>\n",
       "      <td>331</td>\n",
       "      <td>403</td>\n",
       "      <td>2024-01-01</td>\n",
       "      <td>2</td>\n",
       "      <td>Ishaan</td>\n",
       "      <td>ishaan@example.com</td>\n",
       "      <td>City, Historical</td>\n",
       "      <td>Male</td>\n",
       "      <td>2</td>\n",
       "      <td>0</td>\n",
       "    </tr>\n",
       "  </tbody>\n",
       "</table>\n",
       "</div>"
      ],
      "text/plain": [
       "   ReviewID  DestinationID_x  UserID  Rating            ReviewText  \\\n",
       "0         1              178     327       2  Incredible monument!   \n",
       "1         2              411     783       1    Loved the beaches!   \n",
       "2         4              358     959       3  Incredible monument!   \n",
       "3         5              989     353       2    Loved the beaches!   \n",
       "4         6              473     408       4   A historical wonder   \n",
       "\n",
       "              Name_x          State        Type  Popularity BestTimeToVisit  \\\n",
       "0        Jaipur City      Rajasthan        City    8.544352         Oct-Mar   \n",
       "1          Taj Mahal  Uttar Pradesh  Historical    8.284127         Nov-Feb   \n",
       "2        Jaipur City      Rajasthan        City    7.738761         Oct-Mar   \n",
       "3  Kerala Backwaters         Kerala      Nature    8.208088         Sep-Mar   \n",
       "4        Jaipur City      Rajasthan        City    8.138558         Oct-Mar   \n",
       "\n",
       "   HistoryID  DestinationID_y   VisitDate  ExperienceRating  Name_y  \\\n",
       "0         79              175  2024-01-01                 3   Pooja   \n",
       "1        834              894  2024-03-20                 2   Karan   \n",
       "2        998              660  2024-02-15                 4  Ritvik   \n",
       "3        202              894  2024-01-01                 5    Isha   \n",
       "4        331              403  2024-01-01                 2  Ishaan   \n",
       "\n",
       "                Email        Preferences  Gender  NumberOfAdults  \\\n",
       "0   pooja@example.com   City, Historical  Female               1   \n",
       "1   karan@example.com   City, Historical    Male               1   \n",
       "2  ritvik@example.com  Nature, Adventure    Male               1   \n",
       "3    isha@example.com  Nature, Adventure  Female               2   \n",
       "4  ishaan@example.com   City, Historical    Male               2   \n",
       "\n",
       "   NumberOfChildren  \n",
       "0                 1  \n",
       "1                 1  \n",
       "2                 1  \n",
       "3                 0  \n",
       "4                 0  "
      ]
     },
     "execution_count": 24,
     "metadata": {},
     "output_type": "execute_result"
    }
   ],
   "source": [
    "df.head()"
   ]
  },
  {
   "cell_type": "markdown",
   "metadata": {},
   "source": [
    "## Feature Scaling"
   ]
  },
  {
   "cell_type": "code",
   "execution_count": 25,
   "metadata": {
    "colab": {
     "base_uri": "https://localhost:8080/",
     "height": 1000
    },
    "executionInfo": {
     "elapsed": 49,
     "status": "ok",
     "timestamp": 1749196535888,
     "user": {
      "displayName": "collegeratnagiri government",
      "userId": "11950044814894972433"
     },
     "user_tz": -330
    },
    "id": "3lvwgEfuAV8q",
    "outputId": "c7085101-feab-4a9d-f9f9-b1423440a3e3"
   },
   "outputs": [
    {
     "data": {
      "text/html": [
       "<div>\n",
       "<style scoped>\n",
       "    .dataframe tbody tr th:only-of-type {\n",
       "        vertical-align: middle;\n",
       "    }\n",
       "\n",
       "    .dataframe tbody tr th {\n",
       "        vertical-align: top;\n",
       "    }\n",
       "\n",
       "    .dataframe thead th {\n",
       "        text-align: right;\n",
       "    }\n",
       "</style>\n",
       "<table border=\"1\" class=\"dataframe\">\n",
       "  <thead>\n",
       "    <tr style=\"text-align: right;\">\n",
       "      <th></th>\n",
       "      <th>ReviewID</th>\n",
       "      <th>DestinationID_x</th>\n",
       "      <th>UserID</th>\n",
       "      <th>Rating</th>\n",
       "      <th>ReviewText</th>\n",
       "      <th>Name_x</th>\n",
       "      <th>State</th>\n",
       "      <th>Type</th>\n",
       "      <th>Popularity</th>\n",
       "      <th>BestTimeToVisit</th>\n",
       "      <th>...</th>\n",
       "      <th>DestinationID_y</th>\n",
       "      <th>VisitDate</th>\n",
       "      <th>ExperienceRating</th>\n",
       "      <th>Name_y</th>\n",
       "      <th>Email</th>\n",
       "      <th>Preferences</th>\n",
       "      <th>Gender</th>\n",
       "      <th>NumberOfAdults</th>\n",
       "      <th>NumberOfChildren</th>\n",
       "      <th>features</th>\n",
       "    </tr>\n",
       "  </thead>\n",
       "  <tbody>\n",
       "    <tr>\n",
       "      <th>0</th>\n",
       "      <td>1</td>\n",
       "      <td>178</td>\n",
       "      <td>327</td>\n",
       "      <td>2</td>\n",
       "      <td>Incredible monument!</td>\n",
       "      <td>Jaipur City</td>\n",
       "      <td>Rajasthan</td>\n",
       "      <td>City</td>\n",
       "      <td>8.544352</td>\n",
       "      <td>Oct-Mar</td>\n",
       "      <td>...</td>\n",
       "      <td>175</td>\n",
       "      <td>2024-01-01</td>\n",
       "      <td>3</td>\n",
       "      <td>Pooja</td>\n",
       "      <td>pooja@example.com</td>\n",
       "      <td>City, Historical</td>\n",
       "      <td>Female</td>\n",
       "      <td>1</td>\n",
       "      <td>1</td>\n",
       "      <td>City Rajasthan Oct-Mar City, Historical</td>\n",
       "    </tr>\n",
       "    <tr>\n",
       "      <th>1</th>\n",
       "      <td>2</td>\n",
       "      <td>411</td>\n",
       "      <td>783</td>\n",
       "      <td>1</td>\n",
       "      <td>Loved the beaches!</td>\n",
       "      <td>Taj Mahal</td>\n",
       "      <td>Uttar Pradesh</td>\n",
       "      <td>Historical</td>\n",
       "      <td>8.284127</td>\n",
       "      <td>Nov-Feb</td>\n",
       "      <td>...</td>\n",
       "      <td>894</td>\n",
       "      <td>2024-03-20</td>\n",
       "      <td>2</td>\n",
       "      <td>Karan</td>\n",
       "      <td>karan@example.com</td>\n",
       "      <td>City, Historical</td>\n",
       "      <td>Male</td>\n",
       "      <td>1</td>\n",
       "      <td>1</td>\n",
       "      <td>Historical Uttar Pradesh Nov-Feb City, Historical</td>\n",
       "    </tr>\n",
       "    <tr>\n",
       "      <th>2</th>\n",
       "      <td>4</td>\n",
       "      <td>358</td>\n",
       "      <td>959</td>\n",
       "      <td>3</td>\n",
       "      <td>Incredible monument!</td>\n",
       "      <td>Jaipur City</td>\n",
       "      <td>Rajasthan</td>\n",
       "      <td>City</td>\n",
       "      <td>7.738761</td>\n",
       "      <td>Oct-Mar</td>\n",
       "      <td>...</td>\n",
       "      <td>660</td>\n",
       "      <td>2024-02-15</td>\n",
       "      <td>4</td>\n",
       "      <td>Ritvik</td>\n",
       "      <td>ritvik@example.com</td>\n",
       "      <td>Nature, Adventure</td>\n",
       "      <td>Male</td>\n",
       "      <td>1</td>\n",
       "      <td>1</td>\n",
       "      <td>City Rajasthan Oct-Mar Nature, Adventure</td>\n",
       "    </tr>\n",
       "    <tr>\n",
       "      <th>3</th>\n",
       "      <td>5</td>\n",
       "      <td>989</td>\n",
       "      <td>353</td>\n",
       "      <td>2</td>\n",
       "      <td>Loved the beaches!</td>\n",
       "      <td>Kerala Backwaters</td>\n",
       "      <td>Kerala</td>\n",
       "      <td>Nature</td>\n",
       "      <td>8.208088</td>\n",
       "      <td>Sep-Mar</td>\n",
       "      <td>...</td>\n",
       "      <td>894</td>\n",
       "      <td>2024-01-01</td>\n",
       "      <td>5</td>\n",
       "      <td>Isha</td>\n",
       "      <td>isha@example.com</td>\n",
       "      <td>Nature, Adventure</td>\n",
       "      <td>Female</td>\n",
       "      <td>2</td>\n",
       "      <td>0</td>\n",
       "      <td>Nature Kerala Sep-Mar Nature, Adventure</td>\n",
       "    </tr>\n",
       "    <tr>\n",
       "      <th>4</th>\n",
       "      <td>6</td>\n",
       "      <td>473</td>\n",
       "      <td>408</td>\n",
       "      <td>4</td>\n",
       "      <td>A historical wonder</td>\n",
       "      <td>Jaipur City</td>\n",
       "      <td>Rajasthan</td>\n",
       "      <td>City</td>\n",
       "      <td>8.138558</td>\n",
       "      <td>Oct-Mar</td>\n",
       "      <td>...</td>\n",
       "      <td>403</td>\n",
       "      <td>2024-01-01</td>\n",
       "      <td>2</td>\n",
       "      <td>Ishaan</td>\n",
       "      <td>ishaan@example.com</td>\n",
       "      <td>City, Historical</td>\n",
       "      <td>Male</td>\n",
       "      <td>2</td>\n",
       "      <td>0</td>\n",
       "      <td>City Rajasthan Oct-Mar City, Historical</td>\n",
       "    </tr>\n",
       "  </tbody>\n",
       "</table>\n",
       "<p>5 rows × 21 columns</p>\n",
       "</div>"
      ],
      "text/plain": [
       "   ReviewID  DestinationID_x  UserID  Rating            ReviewText  \\\n",
       "0         1              178     327       2  Incredible monument!   \n",
       "1         2              411     783       1    Loved the beaches!   \n",
       "2         4              358     959       3  Incredible monument!   \n",
       "3         5              989     353       2    Loved the beaches!   \n",
       "4         6              473     408       4   A historical wonder   \n",
       "\n",
       "              Name_x          State        Type  Popularity BestTimeToVisit  \\\n",
       "0        Jaipur City      Rajasthan        City    8.544352         Oct-Mar   \n",
       "1          Taj Mahal  Uttar Pradesh  Historical    8.284127         Nov-Feb   \n",
       "2        Jaipur City      Rajasthan        City    7.738761         Oct-Mar   \n",
       "3  Kerala Backwaters         Kerala      Nature    8.208088         Sep-Mar   \n",
       "4        Jaipur City      Rajasthan        City    8.138558         Oct-Mar   \n",
       "\n",
       "   ...  DestinationID_y   VisitDate ExperienceRating  Name_y  \\\n",
       "0  ...              175  2024-01-01                3   Pooja   \n",
       "1  ...              894  2024-03-20                2   Karan   \n",
       "2  ...              660  2024-02-15                4  Ritvik   \n",
       "3  ...              894  2024-01-01                5    Isha   \n",
       "4  ...              403  2024-01-01                2  Ishaan   \n",
       "\n",
       "                Email        Preferences  Gender NumberOfAdults  \\\n",
       "0   pooja@example.com   City, Historical  Female              1   \n",
       "1   karan@example.com   City, Historical    Male              1   \n",
       "2  ritvik@example.com  Nature, Adventure    Male              1   \n",
       "3    isha@example.com  Nature, Adventure  Female              2   \n",
       "4  ishaan@example.com   City, Historical    Male              2   \n",
       "\n",
       "   NumberOfChildren                                           features  \n",
       "0                 1            City Rajasthan Oct-Mar City, Historical  \n",
       "1                 1  Historical Uttar Pradesh Nov-Feb City, Historical  \n",
       "2                 1           City Rajasthan Oct-Mar Nature, Adventure  \n",
       "3                 0            Nature Kerala Sep-Mar Nature, Adventure  \n",
       "4                 0            City Rajasthan Oct-Mar City, Historical  \n",
       "\n",
       "[5 rows x 21 columns]"
      ]
     },
     "execution_count": 25,
     "metadata": {},
     "output_type": "execute_result"
    }
   ],
   "source": [
    "df['features'] = df['Type'] + ' ' + df['State'] + ' ' + df['BestTimeToVisit'] + \" \" + df['Preferences']\n",
    "df.head()"
   ]
  },
  {
   "cell_type": "code",
   "execution_count": 26,
   "metadata": {
    "executionInfo": {
     "elapsed": 16,
     "status": "ok",
     "timestamp": 1749196538874,
     "user": {
      "displayName": "collegeratnagiri government",
      "userId": "11950044814894972433"
     },
     "user_tz": -330
    },
    "id": "z3m7fcnQAaxT"
   },
   "outputs": [],
   "source": [
    "vectorizer = CountVectorizer(stop_words='english')\n",
    "destination_features = vectorizer.fit_transform(df['features'])"
   ]
  },
  {
   "cell_type": "code",
   "execution_count": 27,
   "metadata": {
    "colab": {
     "base_uri": "https://localhost:8080/"
    },
    "executionInfo": {
     "elapsed": 52,
     "status": "ok",
     "timestamp": 1749196543757,
     "user": {
      "displayName": "collegeratnagiri government",
      "userId": "11950044814894972433"
     },
     "user_tz": -330
    },
    "id": "Jn8Ah-P5Adua",
    "outputId": "924dae66-01c8-42fa-f5a3-ef8b96196393"
   },
   "outputs": [
    {
     "data": {
      "text/plain": [
       "array([[0, 0, 0, ..., 1, 0, 0],\n",
       "       [0, 0, 0, ..., 0, 0, 1],\n",
       "       [1, 0, 0, ..., 1, 0, 0],\n",
       "       ...,\n",
       "       [0, 0, 0, ..., 0, 0, 1],\n",
       "       [0, 0, 0, ..., 0, 0, 1],\n",
       "       [0, 0, 0, ..., 1, 0, 0]], shape=(993, 20))"
      ]
     },
     "execution_count": 27,
     "metadata": {},
     "output_type": "execute_result"
    }
   ],
   "source": [
    "destination_features.toarray()"
   ]
  },
  {
   "cell_type": "code",
   "execution_count": 28,
   "metadata": {
    "executionInfo": {
     "elapsed": 48,
     "status": "ok",
     "timestamp": 1749196545420,
     "user": {
      "displayName": "collegeratnagiri government",
      "userId": "11950044814894972433"
     },
     "user_tz": -330
    },
    "id": "XyHXQvOmAh_j"
   },
   "outputs": [],
   "source": [
    "cosine_sim = cosine_similarity(destination_features, destination_features)"
   ]
  },
  {
   "cell_type": "code",
   "execution_count": 29,
   "metadata": {
    "colab": {
     "base_uri": "https://localhost:8080/",
     "height": 458
    },
    "executionInfo": {
     "elapsed": 4,
     "status": "ok",
     "timestamp": 1749196547058,
     "user": {
      "displayName": "collegeratnagiri government",
      "userId": "11950044814894972433"
     },
     "user_tz": -330
    },
    "id": "tzEV5yEFAld7",
    "outputId": "d5987c93-1cc3-4322-e3d0-3e9659982229"
   },
   "outputs": [
    {
     "data": {
      "text/plain": [
       "0                City Rajasthan Oct-Mar City, Historical\n",
       "1      Historical Uttar Pradesh Nov-Feb City, Historical\n",
       "2               City Rajasthan Oct-Mar Nature, Adventure\n",
       "3                Nature Kerala Sep-Mar Nature, Adventure\n",
       "4                City Rajasthan Oct-Mar City, Historical\n",
       "                             ...                        \n",
       "988    Historical Uttar Pradesh Nov-Feb Beaches, Hist...\n",
       "989    Historical Uttar Pradesh Nov-Feb Beaches, Hist...\n",
       "990    Historical Uttar Pradesh Nov-Feb Beaches, Hist...\n",
       "991    Historical Uttar Pradesh Nov-Feb Beaches, Hist...\n",
       "992              City Rajasthan Oct-Mar City, Historical\n",
       "Name: features, Length: 993, dtype: object"
      ]
     },
     "execution_count": 29,
     "metadata": {},
     "output_type": "execute_result"
    }
   ],
   "source": [
    "df['features']"
   ]
  },
  {
   "cell_type": "code",
   "execution_count": 30,
   "metadata": {
    "colab": {
     "base_uri": "https://localhost:8080/",
     "height": 424
    },
    "executionInfo": {
     "elapsed": 76,
     "status": "ok",
     "timestamp": 1749196549351,
     "user": {
      "displayName": "collegeratnagiri government",
      "userId": "11950044814894972433"
     },
     "user_tz": -330
    },
    "id": "0krA88oRFAAO",
    "outputId": "59d34edc-3d35-4725-a2dd-9cd6f721fffc"
   },
   "outputs": [
    {
     "data": {
      "text/html": [
       "<div>\n",
       "<style scoped>\n",
       "    .dataframe tbody tr th:only-of-type {\n",
       "        vertical-align: middle;\n",
       "    }\n",
       "\n",
       "    .dataframe tbody tr th {\n",
       "        vertical-align: top;\n",
       "    }\n",
       "\n",
       "    .dataframe thead th {\n",
       "        text-align: right;\n",
       "    }\n",
       "</style>\n",
       "<table border=\"1\" class=\"dataframe\">\n",
       "  <thead>\n",
       "    <tr style=\"text-align: right;\">\n",
       "      <th></th>\n",
       "      <th>DestinationID</th>\n",
       "      <th>Name</th>\n",
       "      <th>State</th>\n",
       "      <th>Type</th>\n",
       "      <th>Popularity</th>\n",
       "      <th>BestTimeToVisit</th>\n",
       "    </tr>\n",
       "  </thead>\n",
       "  <tbody>\n",
       "    <tr>\n",
       "      <th>0</th>\n",
       "      <td>980</td>\n",
       "      <td>Leh Ladakh</td>\n",
       "      <td>Jammu and Kashmir</td>\n",
       "      <td>Adventure</td>\n",
       "      <td>9.347621</td>\n",
       "      <td>Apr-Jun</td>\n",
       "    </tr>\n",
       "    <tr>\n",
       "      <th>1</th>\n",
       "      <td>979</td>\n",
       "      <td>Kerala Backwaters</td>\n",
       "      <td>Kerala</td>\n",
       "      <td>Nature</td>\n",
       "      <td>9.081746</td>\n",
       "      <td>Sep-Mar</td>\n",
       "    </tr>\n",
       "    <tr>\n",
       "      <th>2</th>\n",
       "      <td>710</td>\n",
       "      <td>Leh Ladakh</td>\n",
       "      <td>Jammu and Kashmir</td>\n",
       "      <td>Adventure</td>\n",
       "      <td>9.031525</td>\n",
       "      <td>Apr-Jun</td>\n",
       "    </tr>\n",
       "    <tr>\n",
       "      <th>3</th>\n",
       "      <td>705</td>\n",
       "      <td>Leh Ladakh</td>\n",
       "      <td>Jammu and Kashmir</td>\n",
       "      <td>Adventure</td>\n",
       "      <td>8.371945</td>\n",
       "      <td>Apr-Jun</td>\n",
       "    </tr>\n",
       "    <tr>\n",
       "      <th>4</th>\n",
       "      <td>528</td>\n",
       "      <td>Jaipur City</td>\n",
       "      <td>Rajasthan</td>\n",
       "      <td>City</td>\n",
       "      <td>8.564172</td>\n",
       "      <td>Oct-Mar</td>\n",
       "    </tr>\n",
       "    <tr>\n",
       "      <th>...</th>\n",
       "      <td>...</td>\n",
       "      <td>...</td>\n",
       "      <td>...</td>\n",
       "      <td>...</td>\n",
       "      <td>...</td>\n",
       "      <td>...</td>\n",
       "    </tr>\n",
       "    <tr>\n",
       "      <th>95</th>\n",
       "      <td>893</td>\n",
       "      <td>Jaipur City</td>\n",
       "      <td>Rajasthan</td>\n",
       "      <td>City</td>\n",
       "      <td>8.375786</td>\n",
       "      <td>Oct-Mar</td>\n",
       "    </tr>\n",
       "    <tr>\n",
       "      <th>96</th>\n",
       "      <td>236</td>\n",
       "      <td>Taj Mahal</td>\n",
       "      <td>Uttar Pradesh</td>\n",
       "      <td>Historical</td>\n",
       "      <td>8.424773</td>\n",
       "      <td>Nov-Feb</td>\n",
       "    </tr>\n",
       "    <tr>\n",
       "      <th>97</th>\n",
       "      <td>235</td>\n",
       "      <td>Leh Ladakh</td>\n",
       "      <td>Jammu and Kashmir</td>\n",
       "      <td>Adventure</td>\n",
       "      <td>8.734065</td>\n",
       "      <td>Apr-Jun</td>\n",
       "    </tr>\n",
       "    <tr>\n",
       "      <th>98</th>\n",
       "      <td>119</td>\n",
       "      <td>Kerala Backwaters</td>\n",
       "      <td>Kerala</td>\n",
       "      <td>Nature</td>\n",
       "      <td>8.953643</td>\n",
       "      <td>Sep-Mar</td>\n",
       "    </tr>\n",
       "    <tr>\n",
       "      <th>99</th>\n",
       "      <td>65</td>\n",
       "      <td>Leh Ladakh</td>\n",
       "      <td>Jammu and Kashmir</td>\n",
       "      <td>Adventure</td>\n",
       "      <td>8.264286</td>\n",
       "      <td>Apr-Jun</td>\n",
       "    </tr>\n",
       "  </tbody>\n",
       "</table>\n",
       "<p>100 rows × 6 columns</p>\n",
       "</div>"
      ],
      "text/plain": [
       "    DestinationID               Name              State        Type  \\\n",
       "0             980         Leh Ladakh  Jammu and Kashmir   Adventure   \n",
       "1             979  Kerala Backwaters             Kerala      Nature   \n",
       "2             710         Leh Ladakh  Jammu and Kashmir   Adventure   \n",
       "3             705         Leh Ladakh  Jammu and Kashmir   Adventure   \n",
       "4             528        Jaipur City          Rajasthan        City   \n",
       "..            ...                ...                ...         ...   \n",
       "95            893        Jaipur City          Rajasthan        City   \n",
       "96            236          Taj Mahal      Uttar Pradesh  Historical   \n",
       "97            235         Leh Ladakh  Jammu and Kashmir   Adventure   \n",
       "98            119  Kerala Backwaters             Kerala      Nature   \n",
       "99             65         Leh Ladakh  Jammu and Kashmir   Adventure   \n",
       "\n",
       "    Popularity BestTimeToVisit  \n",
       "0     9.347621         Apr-Jun  \n",
       "1     9.081746         Sep-Mar  \n",
       "2     9.031525         Apr-Jun  \n",
       "3     8.371945         Apr-Jun  \n",
       "4     8.564172         Oct-Mar  \n",
       "..         ...             ...  \n",
       "95    8.375786         Oct-Mar  \n",
       "96    8.424773         Nov-Feb  \n",
       "97    8.734065         Apr-Jun  \n",
       "98    8.953643         Sep-Mar  \n",
       "99    8.264286         Apr-Jun  \n",
       "\n",
       "[100 rows x 6 columns]"
      ]
     },
     "execution_count": 30,
     "metadata": {},
     "output_type": "execute_result"
    }
   ],
   "source": [
    "def recommend_destinations(user_id, userhistory_df, destinations_df, cosine_sim):\n",
    "    \"\"\"\n",
    "    Recommends top 5 destinations for a given user based on similarity scores.\n",
    "\n",
    "    Args:\n",
    "    - user_id: ID of the user.\n",
    "    - userhistory_df: User history DataFrame containing 'UserID' and 'DestinationID'.\n",
    "    - destinations_df: Destinations DataFrame containing destination details.\n",
    "    - cosine_sim: Cosine similarity matrix for destinations.\n",
    "\n",
    "    Returns:\n",
    "    - DataFrame with recommended destinations and their details.\n",
    "    \"\"\"\n",
    "    # Get the destinations the user has visited\n",
    "    visited_destinations = userhistory_df[userhistory_df['UserID'] == user_id]['DestinationID'].values\n",
    "\n",
    "    # Calculate similarity scores for visited destinations\n",
    "    similar_scores = np.sum(cosine_sim[visited_destinations - 1], axis=0)\n",
    "\n",
    "    # Recommend the top 5 destinations the user hasn't visited yet\n",
    "    recommended_destinations_idx = np.argsort(similar_scores)[::-1]\n",
    "\n",
    "    recommendations = []\n",
    "    for idx in recommended_destinations_idx:\n",
    "        if destinations_df.iloc[idx]['DestinationID'] not in visited_destinations:\n",
    "            # Append detailed information for each recommendation\n",
    "            recommendations.append(destinations_df.iloc[idx][[\n",
    "                'DestinationID', 'Name', 'State', 'Type', 'Popularity', 'BestTimeToVisit'\n",
    "            ]].to_dict())\n",
    "        if len(recommendations) >= 100:\n",
    "            break\n",
    "\n",
    "    # Convert recommendations to a DataFrame\n",
    "    return pd.DataFrame(recommendations)\n",
    "\n",
    "# Example: Recommend destinations for user with ID 1\n",
    "recommended_destinations = recommend_destinations(5, userhistory_df, destinations_df, cosine_sim)\n",
    "\n",
    "# Display recommendations\n",
    "recommended_destinations"
   ]
  },
  {
   "cell_type": "code",
   "execution_count": 31,
   "metadata": {
    "colab": {
     "base_uri": "https://localhost:8080/",
     "height": 424
    },
    "executionInfo": {
     "elapsed": 99,
     "status": "ok",
     "timestamp": 1749196553377,
     "user": {
      "displayName": "collegeratnagiri government",
      "userId": "11950044814894972433"
     },
     "user_tz": -330
    },
    "id": "6hhly-UFFPNO",
    "outputId": "d70033d1-8905-4fb4-a595-a342048ad38c"
   },
   "outputs": [
    {
     "data": {
      "text/html": [
       "<div>\n",
       "<style scoped>\n",
       "    .dataframe tbody tr th:only-of-type {\n",
       "        vertical-align: middle;\n",
       "    }\n",
       "\n",
       "    .dataframe tbody tr th {\n",
       "        vertical-align: top;\n",
       "    }\n",
       "\n",
       "    .dataframe thead th {\n",
       "        text-align: right;\n",
       "    }\n",
       "</style>\n",
       "<table border=\"1\" class=\"dataframe\">\n",
       "  <thead>\n",
       "    <tr style=\"text-align: right;\">\n",
       "      <th></th>\n",
       "      <th>DestinationID</th>\n",
       "      <th>Name</th>\n",
       "      <th>State</th>\n",
       "      <th>Type</th>\n",
       "      <th>Popularity</th>\n",
       "      <th>BestTimeToVisit</th>\n",
       "    </tr>\n",
       "  </thead>\n",
       "  <tbody>\n",
       "    <tr>\n",
       "      <th>0</th>\n",
       "      <td>30</td>\n",
       "      <td>Leh Ladakh</td>\n",
       "      <td>Jammu and Kashmir</td>\n",
       "      <td>Adventure</td>\n",
       "      <td>7.930638</td>\n",
       "      <td>Apr-Jun</td>\n",
       "    </tr>\n",
       "    <tr>\n",
       "      <th>1</th>\n",
       "      <td>31</td>\n",
       "      <td>Taj Mahal</td>\n",
       "      <td>Uttar Pradesh</td>\n",
       "      <td>Historical</td>\n",
       "      <td>8.534267</td>\n",
       "      <td>Nov-Feb</td>\n",
       "    </tr>\n",
       "    <tr>\n",
       "      <th>2</th>\n",
       "      <td>8</td>\n",
       "      <td>Jaipur City</td>\n",
       "      <td>Rajasthan</td>\n",
       "      <td>City</td>\n",
       "      <td>9.458705</td>\n",
       "      <td>Oct-Mar</td>\n",
       "    </tr>\n",
       "    <tr>\n",
       "      <th>3</th>\n",
       "      <td>340</td>\n",
       "      <td>Leh Ladakh</td>\n",
       "      <td>Jammu and Kashmir</td>\n",
       "      <td>Adventure</td>\n",
       "      <td>9.051579</td>\n",
       "      <td>Apr-Jun</td>\n",
       "    </tr>\n",
       "    <tr>\n",
       "      <th>4</th>\n",
       "      <td>341</td>\n",
       "      <td>Taj Mahal</td>\n",
       "      <td>Uttar Pradesh</td>\n",
       "      <td>Historical</td>\n",
       "      <td>8.408281</td>\n",
       "      <td>Nov-Feb</td>\n",
       "    </tr>\n",
       "    <tr>\n",
       "      <th>...</th>\n",
       "      <td>...</td>\n",
       "      <td>...</td>\n",
       "      <td>...</td>\n",
       "      <td>...</td>\n",
       "      <td>...</td>\n",
       "      <td>...</td>\n",
       "    </tr>\n",
       "    <tr>\n",
       "      <th>95</th>\n",
       "      <td>811</td>\n",
       "      <td>Taj Mahal</td>\n",
       "      <td>Uttar Pradesh</td>\n",
       "      <td>Historical</td>\n",
       "      <td>9.393806</td>\n",
       "      <td>Nov-Feb</td>\n",
       "    </tr>\n",
       "    <tr>\n",
       "      <th>96</th>\n",
       "      <td>844</td>\n",
       "      <td>Kerala Backwaters</td>\n",
       "      <td>Kerala</td>\n",
       "      <td>Nature</td>\n",
       "      <td>9.173581</td>\n",
       "      <td>Sep-Mar</td>\n",
       "    </tr>\n",
       "    <tr>\n",
       "      <th>97</th>\n",
       "      <td>131</td>\n",
       "      <td>Taj Mahal</td>\n",
       "      <td>Uttar Pradesh</td>\n",
       "      <td>Historical</td>\n",
       "      <td>8.853927</td>\n",
       "      <td>Nov-Feb</td>\n",
       "    </tr>\n",
       "    <tr>\n",
       "      <th>98</th>\n",
       "      <td>132</td>\n",
       "      <td>Goa Beaches</td>\n",
       "      <td>Goa</td>\n",
       "      <td>Beach</td>\n",
       "      <td>8.188672</td>\n",
       "      <td>Nov-Mar</td>\n",
       "    </tr>\n",
       "    <tr>\n",
       "      <th>99</th>\n",
       "      <td>136</td>\n",
       "      <td>Taj Mahal</td>\n",
       "      <td>Uttar Pradesh</td>\n",
       "      <td>Historical</td>\n",
       "      <td>8.153562</td>\n",
       "      <td>Nov-Feb</td>\n",
       "    </tr>\n",
       "  </tbody>\n",
       "</table>\n",
       "<p>100 rows × 6 columns</p>\n",
       "</div>"
      ],
      "text/plain": [
       "    DestinationID               Name              State        Type  \\\n",
       "0              30         Leh Ladakh  Jammu and Kashmir   Adventure   \n",
       "1              31          Taj Mahal      Uttar Pradesh  Historical   \n",
       "2               8        Jaipur City          Rajasthan        City   \n",
       "3             340         Leh Ladakh  Jammu and Kashmir   Adventure   \n",
       "4             341          Taj Mahal      Uttar Pradesh  Historical   \n",
       "..            ...                ...                ...         ...   \n",
       "95            811          Taj Mahal      Uttar Pradesh  Historical   \n",
       "96            844  Kerala Backwaters             Kerala      Nature   \n",
       "97            131          Taj Mahal      Uttar Pradesh  Historical   \n",
       "98            132        Goa Beaches                Goa       Beach   \n",
       "99            136          Taj Mahal      Uttar Pradesh  Historical   \n",
       "\n",
       "    Popularity BestTimeToVisit  \n",
       "0     7.930638         Apr-Jun  \n",
       "1     8.534267         Nov-Feb  \n",
       "2     9.458705         Oct-Mar  \n",
       "3     9.051579         Apr-Jun  \n",
       "4     8.408281         Nov-Feb  \n",
       "..         ...             ...  \n",
       "95    9.393806         Nov-Feb  \n",
       "96    9.173581         Sep-Mar  \n",
       "97    8.853927         Nov-Feb  \n",
       "98    8.188672         Nov-Mar  \n",
       "99    8.153562         Nov-Feb  \n",
       "\n",
       "[100 rows x 6 columns]"
      ]
     },
     "execution_count": 31,
     "metadata": {},
     "output_type": "execute_result"
    }
   ],
   "source": [
    "recommended_destinations = recommend_destinations(2, userhistory_df, destinations_df, cosine_sim)\n",
    "\n",
    "# Display recommendations\n",
    "recommended_destinations"
   ]
  },
  {
   "cell_type": "code",
   "execution_count": 32,
   "metadata": {
    "colab": {
     "base_uri": "https://localhost:8080/",
     "height": 455
    },
    "executionInfo": {
     "elapsed": 169,
     "status": "ok",
     "timestamp": 1749196556071,
     "user": {
      "displayName": "collegeratnagiri government",
      "userId": "11950044814894972433"
     },
     "user_tz": -330
    },
    "id": "nIUrAZ-4FShu",
    "outputId": "e2eb4d3b-460c-4596-feab-d9cf56551d4a"
   },
   "outputs": [
    {
     "data": {
      "text/html": [
       "<div>\n",
       "<style scoped>\n",
       "    .dataframe tbody tr th:only-of-type {\n",
       "        vertical-align: middle;\n",
       "    }\n",
       "\n",
       "    .dataframe tbody tr th {\n",
       "        vertical-align: top;\n",
       "    }\n",
       "\n",
       "    .dataframe thead th {\n",
       "        text-align: right;\n",
       "    }\n",
       "</style>\n",
       "<table border=\"1\" class=\"dataframe\">\n",
       "  <thead>\n",
       "    <tr style=\"text-align: right;\">\n",
       "      <th>DestinationID</th>\n",
       "      <th>2</th>\n",
       "      <th>3</th>\n",
       "      <th>4</th>\n",
       "      <th>5</th>\n",
       "      <th>6</th>\n",
       "      <th>7</th>\n",
       "      <th>8</th>\n",
       "      <th>9</th>\n",
       "      <th>10</th>\n",
       "      <th>11</th>\n",
       "      <th>...</th>\n",
       "      <th>987</th>\n",
       "      <th>988</th>\n",
       "      <th>990</th>\n",
       "      <th>991</th>\n",
       "      <th>993</th>\n",
       "      <th>994</th>\n",
       "      <th>996</th>\n",
       "      <th>997</th>\n",
       "      <th>998</th>\n",
       "      <th>1000</th>\n",
       "    </tr>\n",
       "    <tr>\n",
       "      <th>UserID</th>\n",
       "      <th></th>\n",
       "      <th></th>\n",
       "      <th></th>\n",
       "      <th></th>\n",
       "      <th></th>\n",
       "      <th></th>\n",
       "      <th></th>\n",
       "      <th></th>\n",
       "      <th></th>\n",
       "      <th></th>\n",
       "      <th></th>\n",
       "      <th></th>\n",
       "      <th></th>\n",
       "      <th></th>\n",
       "      <th></th>\n",
       "      <th></th>\n",
       "      <th></th>\n",
       "      <th></th>\n",
       "      <th></th>\n",
       "      <th></th>\n",
       "      <th></th>\n",
       "    </tr>\n",
       "  </thead>\n",
       "  <tbody>\n",
       "    <tr>\n",
       "      <th>1</th>\n",
       "      <td>0.0</td>\n",
       "      <td>0.0</td>\n",
       "      <td>0.0</td>\n",
       "      <td>0.0</td>\n",
       "      <td>0.0</td>\n",
       "      <td>0.0</td>\n",
       "      <td>0.0</td>\n",
       "      <td>0.0</td>\n",
       "      <td>0.0</td>\n",
       "      <td>0.0</td>\n",
       "      <td>...</td>\n",
       "      <td>0.0</td>\n",
       "      <td>0.0</td>\n",
       "      <td>0.0</td>\n",
       "      <td>0.0</td>\n",
       "      <td>0.0</td>\n",
       "      <td>0.0</td>\n",
       "      <td>0.0</td>\n",
       "      <td>0.0</td>\n",
       "      <td>0.0</td>\n",
       "      <td>0.0</td>\n",
       "    </tr>\n",
       "    <tr>\n",
       "      <th>2</th>\n",
       "      <td>0.0</td>\n",
       "      <td>0.0</td>\n",
       "      <td>0.0</td>\n",
       "      <td>0.0</td>\n",
       "      <td>0.0</td>\n",
       "      <td>0.0</td>\n",
       "      <td>0.0</td>\n",
       "      <td>0.0</td>\n",
       "      <td>0.0</td>\n",
       "      <td>0.0</td>\n",
       "      <td>...</td>\n",
       "      <td>0.0</td>\n",
       "      <td>0.0</td>\n",
       "      <td>0.0</td>\n",
       "      <td>0.0</td>\n",
       "      <td>0.0</td>\n",
       "      <td>0.0</td>\n",
       "      <td>0.0</td>\n",
       "      <td>0.0</td>\n",
       "      <td>0.0</td>\n",
       "      <td>0.0</td>\n",
       "    </tr>\n",
       "    <tr>\n",
       "      <th>3</th>\n",
       "      <td>0.0</td>\n",
       "      <td>0.0</td>\n",
       "      <td>0.0</td>\n",
       "      <td>0.0</td>\n",
       "      <td>0.0</td>\n",
       "      <td>0.0</td>\n",
       "      <td>0.0</td>\n",
       "      <td>0.0</td>\n",
       "      <td>0.0</td>\n",
       "      <td>0.0</td>\n",
       "      <td>...</td>\n",
       "      <td>0.0</td>\n",
       "      <td>0.0</td>\n",
       "      <td>0.0</td>\n",
       "      <td>0.0</td>\n",
       "      <td>0.0</td>\n",
       "      <td>0.0</td>\n",
       "      <td>0.0</td>\n",
       "      <td>0.0</td>\n",
       "      <td>0.0</td>\n",
       "      <td>0.0</td>\n",
       "    </tr>\n",
       "    <tr>\n",
       "      <th>5</th>\n",
       "      <td>0.0</td>\n",
       "      <td>0.0</td>\n",
       "      <td>0.0</td>\n",
       "      <td>0.0</td>\n",
       "      <td>0.0</td>\n",
       "      <td>0.0</td>\n",
       "      <td>0.0</td>\n",
       "      <td>0.0</td>\n",
       "      <td>0.0</td>\n",
       "      <td>0.0</td>\n",
       "      <td>...</td>\n",
       "      <td>0.0</td>\n",
       "      <td>0.0</td>\n",
       "      <td>0.0</td>\n",
       "      <td>0.0</td>\n",
       "      <td>0.0</td>\n",
       "      <td>0.0</td>\n",
       "      <td>0.0</td>\n",
       "      <td>0.0</td>\n",
       "      <td>0.0</td>\n",
       "      <td>0.0</td>\n",
       "    </tr>\n",
       "    <tr>\n",
       "      <th>7</th>\n",
       "      <td>0.0</td>\n",
       "      <td>0.0</td>\n",
       "      <td>0.0</td>\n",
       "      <td>0.0</td>\n",
       "      <td>0.0</td>\n",
       "      <td>0.0</td>\n",
       "      <td>0.0</td>\n",
       "      <td>0.0</td>\n",
       "      <td>0.0</td>\n",
       "      <td>0.0</td>\n",
       "      <td>...</td>\n",
       "      <td>0.0</td>\n",
       "      <td>0.0</td>\n",
       "      <td>0.0</td>\n",
       "      <td>0.0</td>\n",
       "      <td>0.0</td>\n",
       "      <td>0.0</td>\n",
       "      <td>0.0</td>\n",
       "      <td>0.0</td>\n",
       "      <td>0.0</td>\n",
       "      <td>0.0</td>\n",
       "    </tr>\n",
       "    <tr>\n",
       "      <th>...</th>\n",
       "      <td>...</td>\n",
       "      <td>...</td>\n",
       "      <td>...</td>\n",
       "      <td>...</td>\n",
       "      <td>...</td>\n",
       "      <td>...</td>\n",
       "      <td>...</td>\n",
       "      <td>...</td>\n",
       "      <td>...</td>\n",
       "      <td>...</td>\n",
       "      <td>...</td>\n",
       "      <td>...</td>\n",
       "      <td>...</td>\n",
       "      <td>...</td>\n",
       "      <td>...</td>\n",
       "      <td>...</td>\n",
       "      <td>...</td>\n",
       "      <td>...</td>\n",
       "      <td>...</td>\n",
       "      <td>...</td>\n",
       "      <td>...</td>\n",
       "    </tr>\n",
       "    <tr>\n",
       "      <th>990</th>\n",
       "      <td>0.0</td>\n",
       "      <td>0.0</td>\n",
       "      <td>0.0</td>\n",
       "      <td>0.0</td>\n",
       "      <td>0.0</td>\n",
       "      <td>0.0</td>\n",
       "      <td>0.0</td>\n",
       "      <td>0.0</td>\n",
       "      <td>0.0</td>\n",
       "      <td>0.0</td>\n",
       "      <td>...</td>\n",
       "      <td>0.0</td>\n",
       "      <td>0.0</td>\n",
       "      <td>0.0</td>\n",
       "      <td>0.0</td>\n",
       "      <td>0.0</td>\n",
       "      <td>0.0</td>\n",
       "      <td>0.0</td>\n",
       "      <td>0.0</td>\n",
       "      <td>0.0</td>\n",
       "      <td>0.0</td>\n",
       "    </tr>\n",
       "    <tr>\n",
       "      <th>991</th>\n",
       "      <td>0.0</td>\n",
       "      <td>0.0</td>\n",
       "      <td>0.0</td>\n",
       "      <td>0.0</td>\n",
       "      <td>0.0</td>\n",
       "      <td>0.0</td>\n",
       "      <td>0.0</td>\n",
       "      <td>0.0</td>\n",
       "      <td>0.0</td>\n",
       "      <td>0.0</td>\n",
       "      <td>...</td>\n",
       "      <td>0.0</td>\n",
       "      <td>0.0</td>\n",
       "      <td>0.0</td>\n",
       "      <td>0.0</td>\n",
       "      <td>0.0</td>\n",
       "      <td>0.0</td>\n",
       "      <td>0.0</td>\n",
       "      <td>0.0</td>\n",
       "      <td>0.0</td>\n",
       "      <td>0.0</td>\n",
       "    </tr>\n",
       "    <tr>\n",
       "      <th>992</th>\n",
       "      <td>0.0</td>\n",
       "      <td>0.0</td>\n",
       "      <td>0.0</td>\n",
       "      <td>0.0</td>\n",
       "      <td>0.0</td>\n",
       "      <td>0.0</td>\n",
       "      <td>0.0</td>\n",
       "      <td>0.0</td>\n",
       "      <td>0.0</td>\n",
       "      <td>0.0</td>\n",
       "      <td>...</td>\n",
       "      <td>0.0</td>\n",
       "      <td>0.0</td>\n",
       "      <td>0.0</td>\n",
       "      <td>0.0</td>\n",
       "      <td>0.0</td>\n",
       "      <td>0.0</td>\n",
       "      <td>0.0</td>\n",
       "      <td>0.0</td>\n",
       "      <td>0.0</td>\n",
       "      <td>0.0</td>\n",
       "    </tr>\n",
       "    <tr>\n",
       "      <th>996</th>\n",
       "      <td>0.0</td>\n",
       "      <td>0.0</td>\n",
       "      <td>0.0</td>\n",
       "      <td>0.0</td>\n",
       "      <td>0.0</td>\n",
       "      <td>0.0</td>\n",
       "      <td>0.0</td>\n",
       "      <td>0.0</td>\n",
       "      <td>0.0</td>\n",
       "      <td>0.0</td>\n",
       "      <td>...</td>\n",
       "      <td>0.0</td>\n",
       "      <td>0.0</td>\n",
       "      <td>0.0</td>\n",
       "      <td>0.0</td>\n",
       "      <td>0.0</td>\n",
       "      <td>0.0</td>\n",
       "      <td>0.0</td>\n",
       "      <td>0.0</td>\n",
       "      <td>0.0</td>\n",
       "      <td>0.0</td>\n",
       "    </tr>\n",
       "    <tr>\n",
       "      <th>999</th>\n",
       "      <td>0.0</td>\n",
       "      <td>0.0</td>\n",
       "      <td>0.0</td>\n",
       "      <td>0.0</td>\n",
       "      <td>0.0</td>\n",
       "      <td>0.0</td>\n",
       "      <td>0.0</td>\n",
       "      <td>0.0</td>\n",
       "      <td>0.0</td>\n",
       "      <td>3.0</td>\n",
       "      <td>...</td>\n",
       "      <td>0.0</td>\n",
       "      <td>0.0</td>\n",
       "      <td>0.0</td>\n",
       "      <td>0.0</td>\n",
       "      <td>0.0</td>\n",
       "      <td>0.0</td>\n",
       "      <td>0.0</td>\n",
       "      <td>0.0</td>\n",
       "      <td>0.0</td>\n",
       "      <td>0.0</td>\n",
       "    </tr>\n",
       "  </tbody>\n",
       "</table>\n",
       "<p>642 rows × 638 columns</p>\n",
       "</div>"
      ],
      "text/plain": [
       "DestinationID  2     3     4     5     6     7     8     9     10    11    \\\n",
       "UserID                                                                      \n",
       "1               0.0   0.0   0.0   0.0   0.0   0.0   0.0   0.0   0.0   0.0   \n",
       "2               0.0   0.0   0.0   0.0   0.0   0.0   0.0   0.0   0.0   0.0   \n",
       "3               0.0   0.0   0.0   0.0   0.0   0.0   0.0   0.0   0.0   0.0   \n",
       "5               0.0   0.0   0.0   0.0   0.0   0.0   0.0   0.0   0.0   0.0   \n",
       "7               0.0   0.0   0.0   0.0   0.0   0.0   0.0   0.0   0.0   0.0   \n",
       "...             ...   ...   ...   ...   ...   ...   ...   ...   ...   ...   \n",
       "990             0.0   0.0   0.0   0.0   0.0   0.0   0.0   0.0   0.0   0.0   \n",
       "991             0.0   0.0   0.0   0.0   0.0   0.0   0.0   0.0   0.0   0.0   \n",
       "992             0.0   0.0   0.0   0.0   0.0   0.0   0.0   0.0   0.0   0.0   \n",
       "996             0.0   0.0   0.0   0.0   0.0   0.0   0.0   0.0   0.0   0.0   \n",
       "999             0.0   0.0   0.0   0.0   0.0   0.0   0.0   0.0   0.0   3.0   \n",
       "\n",
       "DestinationID  ...  987   988   990   991   993   994   996   997   998   1000  \n",
       "UserID         ...                                                              \n",
       "1              ...   0.0   0.0   0.0   0.0   0.0   0.0   0.0   0.0   0.0   0.0  \n",
       "2              ...   0.0   0.0   0.0   0.0   0.0   0.0   0.0   0.0   0.0   0.0  \n",
       "3              ...   0.0   0.0   0.0   0.0   0.0   0.0   0.0   0.0   0.0   0.0  \n",
       "5              ...   0.0   0.0   0.0   0.0   0.0   0.0   0.0   0.0   0.0   0.0  \n",
       "7              ...   0.0   0.0   0.0   0.0   0.0   0.0   0.0   0.0   0.0   0.0  \n",
       "...            ...   ...   ...   ...   ...   ...   ...   ...   ...   ...   ...  \n",
       "990            ...   0.0   0.0   0.0   0.0   0.0   0.0   0.0   0.0   0.0   0.0  \n",
       "991            ...   0.0   0.0   0.0   0.0   0.0   0.0   0.0   0.0   0.0   0.0  \n",
       "992            ...   0.0   0.0   0.0   0.0   0.0   0.0   0.0   0.0   0.0   0.0  \n",
       "996            ...   0.0   0.0   0.0   0.0   0.0   0.0   0.0   0.0   0.0   0.0  \n",
       "999            ...   0.0   0.0   0.0   0.0   0.0   0.0   0.0   0.0   0.0   0.0  \n",
       "\n",
       "[642 rows x 638 columns]"
      ]
     },
     "execution_count": 32,
     "metadata": {},
     "output_type": "execute_result"
    }
   ],
   "source": [
    "user_item_matrix = userhistory_df.pivot(index='UserID', columns='DestinationID', values='ExperienceRating')\n",
    "user_item_matrix = user_item_matrix.fillna(0)\n",
    "user_item_matrix"
   ]
  },
  {
   "cell_type": "code",
   "execution_count": 33,
   "metadata": {
    "colab": {
     "base_uri": "https://localhost:8080/"
    },
    "executionInfo": {
     "elapsed": 30,
     "status": "ok",
     "timestamp": 1749196557964,
     "user": {
      "displayName": "collegeratnagiri government",
      "userId": "11950044814894972433"
     },
     "user_tz": -330
    },
    "id": "hgnlhsOYFV49",
    "outputId": "051bb747-dc91-479b-f493-d35bb0396323"
   },
   "outputs": [
    {
     "data": {
      "text/plain": [
       "array([[1., 0., 0., ..., 0., 0., 0.],\n",
       "       [0., 1., 0., ..., 0., 0., 0.],\n",
       "       [0., 0., 1., ..., 0., 0., 0.],\n",
       "       ...,\n",
       "       [0., 0., 0., ..., 1., 0., 0.],\n",
       "       [0., 0., 0., ..., 0., 1., 0.],\n",
       "       [0., 0., 0., ..., 0., 0., 1.]], shape=(642, 642))"
      ]
     },
     "execution_count": 33,
     "metadata": {},
     "output_type": "execute_result"
    }
   ],
   "source": [
    "user_similarity = cosine_similarity(user_item_matrix)\n",
    "user_similarity"
   ]
  },
  {
   "cell_type": "code",
   "execution_count": 34,
   "metadata": {
    "colab": {
     "base_uri": "https://localhost:8080/",
     "height": 206
    },
    "executionInfo": {
     "elapsed": 42,
     "status": "ok",
     "timestamp": 1749196560529,
     "user": {
      "displayName": "collegeratnagiri government",
      "userId": "11950044814894972433"
     },
     "user_tz": -330
    },
    "id": "iKZoOBsbFaAG",
    "outputId": "87f1ee6b-d16a-4641-b78d-716f491e1900"
   },
   "outputs": [
    {
     "data": {
      "text/html": [
       "<div>\n",
       "<style scoped>\n",
       "    .dataframe tbody tr th:only-of-type {\n",
       "        vertical-align: middle;\n",
       "    }\n",
       "\n",
       "    .dataframe tbody tr th {\n",
       "        vertical-align: top;\n",
       "    }\n",
       "\n",
       "    .dataframe thead th {\n",
       "        text-align: right;\n",
       "    }\n",
       "</style>\n",
       "<table border=\"1\" class=\"dataframe\">\n",
       "  <thead>\n",
       "    <tr style=\"text-align: right;\">\n",
       "      <th></th>\n",
       "      <th>DestinationID</th>\n",
       "      <th>Name</th>\n",
       "      <th>State</th>\n",
       "      <th>Type</th>\n",
       "      <th>Popularity</th>\n",
       "      <th>BestTimeToVisit</th>\n",
       "    </tr>\n",
       "  </thead>\n",
       "  <tbody>\n",
       "    <tr>\n",
       "      <th>80</th>\n",
       "      <td>81</td>\n",
       "      <td>Taj Mahal</td>\n",
       "      <td>Uttar Pradesh</td>\n",
       "      <td>Historical</td>\n",
       "      <td>8.113730</td>\n",
       "      <td>Nov-Feb</td>\n",
       "    </tr>\n",
       "    <tr>\n",
       "      <th>388</th>\n",
       "      <td>389</td>\n",
       "      <td>Kerala Backwaters</td>\n",
       "      <td>Kerala</td>\n",
       "      <td>Nature</td>\n",
       "      <td>9.409146</td>\n",
       "      <td>Sep-Mar</td>\n",
       "    </tr>\n",
       "    <tr>\n",
       "      <th>466</th>\n",
       "      <td>467</td>\n",
       "      <td>Goa Beaches</td>\n",
       "      <td>Goa</td>\n",
       "      <td>Beach</td>\n",
       "      <td>8.025486</td>\n",
       "      <td>Nov-Mar</td>\n",
       "    </tr>\n",
       "    <tr>\n",
       "      <th>778</th>\n",
       "      <td>779</td>\n",
       "      <td>Kerala Backwaters</td>\n",
       "      <td>Kerala</td>\n",
       "      <td>Nature</td>\n",
       "      <td>8.861507</td>\n",
       "      <td>Sep-Mar</td>\n",
       "    </tr>\n",
       "    <tr>\n",
       "      <th>940</th>\n",
       "      <td>941</td>\n",
       "      <td>Taj Mahal</td>\n",
       "      <td>Uttar Pradesh</td>\n",
       "      <td>Historical</td>\n",
       "      <td>8.645047</td>\n",
       "      <td>Nov-Feb</td>\n",
       "    </tr>\n",
       "  </tbody>\n",
       "</table>\n",
       "</div>"
      ],
      "text/plain": [
       "     DestinationID               Name          State        Type  Popularity  \\\n",
       "80              81          Taj Mahal  Uttar Pradesh  Historical    8.113730   \n",
       "388            389  Kerala Backwaters         Kerala      Nature    9.409146   \n",
       "466            467        Goa Beaches            Goa       Beach    8.025486   \n",
       "778            779  Kerala Backwaters         Kerala      Nature    8.861507   \n",
       "940            941          Taj Mahal  Uttar Pradesh  Historical    8.645047   \n",
       "\n",
       "    BestTimeToVisit  \n",
       "80          Nov-Feb  \n",
       "388         Sep-Mar  \n",
       "466         Nov-Mar  \n",
       "778         Sep-Mar  \n",
       "940         Nov-Feb  "
      ]
     },
     "execution_count": 34,
     "metadata": {},
     "output_type": "execute_result"
    }
   ],
   "source": [
    "def collaborative_recommend(user_id, user_similarity, user_item_matrix, destinations_df):\n",
    "    \"\"\"\n",
    "    Recommends destinations based on collaborative filtering.\n",
    "\n",
    "    Args:\n",
    "    - user_id: ID of the user for whom recommendations are to be made.\n",
    "    - user_similarity: Cosine similarity matrix for users.\n",
    "    - user_item_matrix: User-item interaction matrix (e.g., ratings or preferences).\n",
    "    - destinations_df: DataFrame containing destination details.\n",
    "\n",
    "    Returns:\n",
    "    - DataFrame with recommended destinations and their details.\n",
    "    \"\"\"\n",
    "    # Find similar users\n",
    "    similar_users = user_similarity[user_id - 1]\n",
    "\n",
    "    # Get the top 5 most similar users\n",
    "    similar_users_idx = np.argsort(similar_users)[::-1][1:6]\n",
    "\n",
    "    # Get the destinations liked by similar users\n",
    "    similar_user_ratings = user_item_matrix.iloc[similar_users_idx].mean(axis=0)\n",
    "\n",
    "    # Recommend the top 5 destinations\n",
    "    recommended_destinations_ids = similar_user_ratings.sort_values(ascending=False).head(5).index\n",
    "\n",
    "    # Filter the destinations DataFrame to include detailed information\n",
    "    recommendations = destinations_df[destinations_df['DestinationID'].isin(recommended_destinations_ids)][[\n",
    "        'DestinationID', 'Name', 'State', 'Type', 'Popularity', 'BestTimeToVisit'\n",
    "    ]]\n",
    "\n",
    "    return recommendations\n",
    "\n",
    "# Example: Collaborative recommendations for user 1\n",
    "collaborative_recommendations = collaborative_recommend(10, user_similarity, user_item_matrix, destinations_df)\n",
    "\n",
    "# Display recommendations\n",
    "collaborative_recommendations"
   ]
  },
  {
   "cell_type": "code",
   "execution_count": 35,
   "metadata": {
    "colab": {
     "base_uri": "https://localhost:8080/",
     "height": 206
    },
    "executionInfo": {
     "elapsed": 72,
     "status": "ok",
     "timestamp": 1749196581172,
     "user": {
      "displayName": "collegeratnagiri government",
      "userId": "11950044814894972433"
     },
     "user_tz": -330
    },
    "id": "9xsrPsvBFeHd",
    "outputId": "90ffcd55-7386-46e8-a434-864ffcaf9ddc"
   },
   "outputs": [
    {
     "data": {
      "text/html": [
       "<div>\n",
       "<style scoped>\n",
       "    .dataframe tbody tr th:only-of-type {\n",
       "        vertical-align: middle;\n",
       "    }\n",
       "\n",
       "    .dataframe tbody tr th {\n",
       "        vertical-align: top;\n",
       "    }\n",
       "\n",
       "    .dataframe thead th {\n",
       "        text-align: right;\n",
       "    }\n",
       "</style>\n",
       "<table border=\"1\" class=\"dataframe\">\n",
       "  <thead>\n",
       "    <tr style=\"text-align: right;\">\n",
       "      <th></th>\n",
       "      <th>DestinationID</th>\n",
       "      <th>Name</th>\n",
       "      <th>State</th>\n",
       "      <th>Type</th>\n",
       "      <th>Popularity</th>\n",
       "      <th>BestTimeToVisit</th>\n",
       "    </tr>\n",
       "  </thead>\n",
       "  <tbody>\n",
       "    <tr>\n",
       "      <th>300</th>\n",
       "      <td>301</td>\n",
       "      <td>Taj Mahal</td>\n",
       "      <td>Uttar Pradesh</td>\n",
       "      <td>Historical</td>\n",
       "      <td>8.634309</td>\n",
       "      <td>Nov-Feb</td>\n",
       "    </tr>\n",
       "    <tr>\n",
       "      <th>345</th>\n",
       "      <td>346</td>\n",
       "      <td>Taj Mahal</td>\n",
       "      <td>Uttar Pradesh</td>\n",
       "      <td>Historical</td>\n",
       "      <td>8.969951</td>\n",
       "      <td>Nov-Feb</td>\n",
       "    </tr>\n",
       "    <tr>\n",
       "      <th>367</th>\n",
       "      <td>368</td>\n",
       "      <td>Jaipur City</td>\n",
       "      <td>Rajasthan</td>\n",
       "      <td>City</td>\n",
       "      <td>8.008252</td>\n",
       "      <td>Oct-Mar</td>\n",
       "    </tr>\n",
       "    <tr>\n",
       "      <th>724</th>\n",
       "      <td>725</td>\n",
       "      <td>Leh Ladakh</td>\n",
       "      <td>Jammu and Kashmir</td>\n",
       "      <td>Adventure</td>\n",
       "      <td>9.339552</td>\n",
       "      <td>Apr-Jun</td>\n",
       "    </tr>\n",
       "    <tr>\n",
       "      <th>969</th>\n",
       "      <td>970</td>\n",
       "      <td>Leh Ladakh</td>\n",
       "      <td>Jammu and Kashmir</td>\n",
       "      <td>Adventure</td>\n",
       "      <td>9.013101</td>\n",
       "      <td>Apr-Jun</td>\n",
       "    </tr>\n",
       "  </tbody>\n",
       "</table>\n",
       "</div>"
      ],
      "text/plain": [
       "     DestinationID         Name              State        Type  Popularity  \\\n",
       "300            301    Taj Mahal      Uttar Pradesh  Historical    8.634309   \n",
       "345            346    Taj Mahal      Uttar Pradesh  Historical    8.969951   \n",
       "367            368  Jaipur City          Rajasthan        City    8.008252   \n",
       "724            725   Leh Ladakh  Jammu and Kashmir   Adventure    9.339552   \n",
       "969            970   Leh Ladakh  Jammu and Kashmir   Adventure    9.013101   \n",
       "\n",
       "    BestTimeToVisit  \n",
       "300         Nov-Feb  \n",
       "345         Nov-Feb  \n",
       "367         Oct-Mar  \n",
       "724         Apr-Jun  \n",
       "969         Apr-Jun  "
      ]
     },
     "execution_count": 35,
     "metadata": {},
     "output_type": "execute_result"
    }
   ],
   "source": [
    "collaborative_recommendations = collaborative_recommend(11, user_similarity, user_item_matrix, destinations_df)\n",
    "\n",
    "# Display recommendations\n",
    "collaborative_recommendations"
   ]
  },
  {
   "cell_type": "code",
   "execution_count": 36,
   "metadata": {
    "executionInfo": {
     "elapsed": 1,
     "status": "ok",
     "timestamp": 1749196581909,
     "user": {
      "displayName": "collegeratnagiri government",
      "userId": "11950044814894972433"
     },
     "user_tz": -330
    },
    "id": "JrPN6t8zFhFu"
   },
   "outputs": [],
   "source": [
    "data=df.copy()"
   ]
  },
  {
   "cell_type": "code",
   "execution_count": 37,
   "metadata": {
    "executionInfo": {
     "elapsed": 1,
     "status": "ok",
     "timestamp": 1749196581912,
     "user": {
      "displayName": "collegeratnagiri government",
      "userId": "11950044814894972433"
     },
     "user_tz": -330
    },
    "id": "e5kg91LFFk3l"
   },
   "outputs": [],
   "source": [
    "# Predicting popularity\n",
    "features = ['Name_x', 'State', 'Type', 'BestTimeToVisit', 'Preferences', 'Gender', 'NumberOfAdults', 'NumberOfChildren']\n",
    "target = 'Popularity'"
   ]
  },
  {
   "cell_type": "code",
   "execution_count": 38,
   "metadata": {
    "colab": {
     "base_uri": "https://localhost:8080/",
     "height": 424
    },
    "executionInfo": {
     "elapsed": 27,
     "status": "ok",
     "timestamp": 1749196582036,
     "user": {
      "displayName": "collegeratnagiri government",
      "userId": "11950044814894972433"
     },
     "user_tz": -330
    },
    "id": "VQ7RYXtNFo3l",
    "outputId": "4c89df65-0681-462d-ed1d-5f85ff39fc56"
   },
   "outputs": [
    {
     "data": {
      "text/html": [
       "<div>\n",
       "<style scoped>\n",
       "    .dataframe tbody tr th:only-of-type {\n",
       "        vertical-align: middle;\n",
       "    }\n",
       "\n",
       "    .dataframe tbody tr th {\n",
       "        vertical-align: top;\n",
       "    }\n",
       "\n",
       "    .dataframe thead th {\n",
       "        text-align: right;\n",
       "    }\n",
       "</style>\n",
       "<table border=\"1\" class=\"dataframe\">\n",
       "  <thead>\n",
       "    <tr style=\"text-align: right;\">\n",
       "      <th></th>\n",
       "      <th>Name_x</th>\n",
       "      <th>State</th>\n",
       "      <th>Type</th>\n",
       "      <th>BestTimeToVisit</th>\n",
       "      <th>Preferences</th>\n",
       "      <th>Gender</th>\n",
       "      <th>NumberOfAdults</th>\n",
       "      <th>NumberOfChildren</th>\n",
       "    </tr>\n",
       "  </thead>\n",
       "  <tbody>\n",
       "    <tr>\n",
       "      <th>0</th>\n",
       "      <td>Jaipur City</td>\n",
       "      <td>Rajasthan</td>\n",
       "      <td>City</td>\n",
       "      <td>Oct-Mar</td>\n",
       "      <td>City, Historical</td>\n",
       "      <td>Female</td>\n",
       "      <td>1</td>\n",
       "      <td>1</td>\n",
       "    </tr>\n",
       "    <tr>\n",
       "      <th>1</th>\n",
       "      <td>Taj Mahal</td>\n",
       "      <td>Uttar Pradesh</td>\n",
       "      <td>Historical</td>\n",
       "      <td>Nov-Feb</td>\n",
       "      <td>City, Historical</td>\n",
       "      <td>Male</td>\n",
       "      <td>1</td>\n",
       "      <td>1</td>\n",
       "    </tr>\n",
       "    <tr>\n",
       "      <th>2</th>\n",
       "      <td>Jaipur City</td>\n",
       "      <td>Rajasthan</td>\n",
       "      <td>City</td>\n",
       "      <td>Oct-Mar</td>\n",
       "      <td>Nature, Adventure</td>\n",
       "      <td>Male</td>\n",
       "      <td>1</td>\n",
       "      <td>1</td>\n",
       "    </tr>\n",
       "    <tr>\n",
       "      <th>3</th>\n",
       "      <td>Kerala Backwaters</td>\n",
       "      <td>Kerala</td>\n",
       "      <td>Nature</td>\n",
       "      <td>Sep-Mar</td>\n",
       "      <td>Nature, Adventure</td>\n",
       "      <td>Female</td>\n",
       "      <td>2</td>\n",
       "      <td>0</td>\n",
       "    </tr>\n",
       "    <tr>\n",
       "      <th>4</th>\n",
       "      <td>Jaipur City</td>\n",
       "      <td>Rajasthan</td>\n",
       "      <td>City</td>\n",
       "      <td>Oct-Mar</td>\n",
       "      <td>City, Historical</td>\n",
       "      <td>Male</td>\n",
       "      <td>2</td>\n",
       "      <td>0</td>\n",
       "    </tr>\n",
       "    <tr>\n",
       "      <th>...</th>\n",
       "      <td>...</td>\n",
       "      <td>...</td>\n",
       "      <td>...</td>\n",
       "      <td>...</td>\n",
       "      <td>...</td>\n",
       "      <td>...</td>\n",
       "      <td>...</td>\n",
       "      <td>...</td>\n",
       "    </tr>\n",
       "    <tr>\n",
       "      <th>988</th>\n",
       "      <td>Taj Mahal</td>\n",
       "      <td>Uttar Pradesh</td>\n",
       "      <td>Historical</td>\n",
       "      <td>Nov-Feb</td>\n",
       "      <td>Beaches, Historical</td>\n",
       "      <td>Male</td>\n",
       "      <td>2</td>\n",
       "      <td>0</td>\n",
       "    </tr>\n",
       "    <tr>\n",
       "      <th>989</th>\n",
       "      <td>Taj Mahal</td>\n",
       "      <td>Uttar Pradesh</td>\n",
       "      <td>Historical</td>\n",
       "      <td>Nov-Feb</td>\n",
       "      <td>Beaches, Historical</td>\n",
       "      <td>Male</td>\n",
       "      <td>2</td>\n",
       "      <td>0</td>\n",
       "    </tr>\n",
       "    <tr>\n",
       "      <th>990</th>\n",
       "      <td>Taj Mahal</td>\n",
       "      <td>Uttar Pradesh</td>\n",
       "      <td>Historical</td>\n",
       "      <td>Nov-Feb</td>\n",
       "      <td>Beaches, Historical</td>\n",
       "      <td>Male</td>\n",
       "      <td>2</td>\n",
       "      <td>2</td>\n",
       "    </tr>\n",
       "    <tr>\n",
       "      <th>991</th>\n",
       "      <td>Taj Mahal</td>\n",
       "      <td>Uttar Pradesh</td>\n",
       "      <td>Historical</td>\n",
       "      <td>Nov-Feb</td>\n",
       "      <td>Beaches, Historical</td>\n",
       "      <td>Male</td>\n",
       "      <td>2</td>\n",
       "      <td>2</td>\n",
       "    </tr>\n",
       "    <tr>\n",
       "      <th>992</th>\n",
       "      <td>Jaipur City</td>\n",
       "      <td>Rajasthan</td>\n",
       "      <td>City</td>\n",
       "      <td>Oct-Mar</td>\n",
       "      <td>City, Historical</td>\n",
       "      <td>Male</td>\n",
       "      <td>1</td>\n",
       "      <td>2</td>\n",
       "    </tr>\n",
       "  </tbody>\n",
       "</table>\n",
       "<p>993 rows × 8 columns</p>\n",
       "</div>"
      ],
      "text/plain": [
       "                Name_x          State        Type BestTimeToVisit  \\\n",
       "0          Jaipur City      Rajasthan        City         Oct-Mar   \n",
       "1            Taj Mahal  Uttar Pradesh  Historical         Nov-Feb   \n",
       "2          Jaipur City      Rajasthan        City         Oct-Mar   \n",
       "3    Kerala Backwaters         Kerala      Nature         Sep-Mar   \n",
       "4          Jaipur City      Rajasthan        City         Oct-Mar   \n",
       "..                 ...            ...         ...             ...   \n",
       "988          Taj Mahal  Uttar Pradesh  Historical         Nov-Feb   \n",
       "989          Taj Mahal  Uttar Pradesh  Historical         Nov-Feb   \n",
       "990          Taj Mahal  Uttar Pradesh  Historical         Nov-Feb   \n",
       "991          Taj Mahal  Uttar Pradesh  Historical         Nov-Feb   \n",
       "992        Jaipur City      Rajasthan        City         Oct-Mar   \n",
       "\n",
       "             Preferences  Gender  NumberOfAdults  NumberOfChildren  \n",
       "0       City, Historical  Female               1                 1  \n",
       "1       City, Historical    Male               1                 1  \n",
       "2      Nature, Adventure    Male               1                 1  \n",
       "3      Nature, Adventure  Female               2                 0  \n",
       "4       City, Historical    Male               2                 0  \n",
       "..                   ...     ...             ...               ...  \n",
       "988  Beaches, Historical    Male               2                 0  \n",
       "989  Beaches, Historical    Male               2                 0  \n",
       "990  Beaches, Historical    Male               2                 2  \n",
       "991  Beaches, Historical    Male               2                 2  \n",
       "992     City, Historical    Male               1                 2  \n",
       "\n",
       "[993 rows x 8 columns]"
      ]
     },
     "execution_count": 38,
     "metadata": {},
     "output_type": "execute_result"
    }
   ],
   "source": [
    "data[features]"
   ]
  },
  {
   "cell_type": "code",
   "execution_count": 39,
   "metadata": {
    "colab": {
     "base_uri": "https://localhost:8080/"
    },
    "executionInfo": {
     "elapsed": 10,
     "status": "ok",
     "timestamp": 1749196586421,
     "user": {
      "displayName": "collegeratnagiri government",
      "userId": "11950044814894972433"
     },
     "user_tz": -330
    },
    "id": "1HiKab9BFsG2",
    "outputId": "0472986c-d231-4a8f-8a5b-249590f253d7"
   },
   "outputs": [
    {
     "name": "stdout",
     "output_type": "stream",
     "text": [
      "Name_x\n",
      "State\n",
      "Type\n",
      "BestTimeToVisit\n",
      "Preferences\n",
      "Gender\n",
      "NumberOfAdults\n",
      "NumberOfChildren\n"
     ]
    }
   ],
   "source": [
    "for col in features:\n",
    "      print(col)"
   ]
  },
  {
   "cell_type": "code",
   "execution_count": 40,
   "metadata": {
    "executionInfo": {
     "elapsed": 1,
     "status": "ok",
     "timestamp": 1749196588551,
     "user": {
      "displayName": "collegeratnagiri government",
      "userId": "11950044814894972433"
     },
     "user_tz": -330
    },
    "id": "2bJHPKfdFvOm"
   },
   "outputs": [],
   "source": [
    "label_encoders = {}\n",
    "for col in features:\n",
    "    if data[col].dtype == 'object':\n",
    "        le = LabelEncoder()\n",
    "        data[col] = le.fit_transform(data[col])\n",
    "        label_encoders[col] = le"
   ]
  },
  {
   "cell_type": "code",
   "execution_count": 41,
   "metadata": {
    "colab": {
     "base_uri": "https://localhost:8080/",
     "height": 424
    },
    "executionInfo": {
     "elapsed": 17,
     "status": "ok",
     "timestamp": 1749196591160,
     "user": {
      "displayName": "collegeratnagiri government",
      "userId": "11950044814894972433"
     },
     "user_tz": -330
    },
    "id": "k0Tsqo2EFyZN",
    "outputId": "a0d4b83d-36cf-4f97-9338-c10db513bdad"
   },
   "outputs": [
    {
     "data": {
      "text/html": [
       "<div>\n",
       "<style scoped>\n",
       "    .dataframe tbody tr th:only-of-type {\n",
       "        vertical-align: middle;\n",
       "    }\n",
       "\n",
       "    .dataframe tbody tr th {\n",
       "        vertical-align: top;\n",
       "    }\n",
       "\n",
       "    .dataframe thead th {\n",
       "        text-align: right;\n",
       "    }\n",
       "</style>\n",
       "<table border=\"1\" class=\"dataframe\">\n",
       "  <thead>\n",
       "    <tr style=\"text-align: right;\">\n",
       "      <th></th>\n",
       "      <th>Name_x</th>\n",
       "      <th>State</th>\n",
       "      <th>Type</th>\n",
       "      <th>BestTimeToVisit</th>\n",
       "      <th>Preferences</th>\n",
       "      <th>Gender</th>\n",
       "      <th>NumberOfAdults</th>\n",
       "      <th>NumberOfChildren</th>\n",
       "    </tr>\n",
       "  </thead>\n",
       "  <tbody>\n",
       "    <tr>\n",
       "      <th>0</th>\n",
       "      <td>1</td>\n",
       "      <td>3</td>\n",
       "      <td>2</td>\n",
       "      <td>3</td>\n",
       "      <td>1</td>\n",
       "      <td>0</td>\n",
       "      <td>1</td>\n",
       "      <td>1</td>\n",
       "    </tr>\n",
       "    <tr>\n",
       "      <th>1</th>\n",
       "      <td>4</td>\n",
       "      <td>4</td>\n",
       "      <td>3</td>\n",
       "      <td>1</td>\n",
       "      <td>1</td>\n",
       "      <td>1</td>\n",
       "      <td>1</td>\n",
       "      <td>1</td>\n",
       "    </tr>\n",
       "    <tr>\n",
       "      <th>2</th>\n",
       "      <td>1</td>\n",
       "      <td>3</td>\n",
       "      <td>2</td>\n",
       "      <td>3</td>\n",
       "      <td>2</td>\n",
       "      <td>1</td>\n",
       "      <td>1</td>\n",
       "      <td>1</td>\n",
       "    </tr>\n",
       "    <tr>\n",
       "      <th>3</th>\n",
       "      <td>2</td>\n",
       "      <td>2</td>\n",
       "      <td>4</td>\n",
       "      <td>4</td>\n",
       "      <td>2</td>\n",
       "      <td>0</td>\n",
       "      <td>2</td>\n",
       "      <td>0</td>\n",
       "    </tr>\n",
       "    <tr>\n",
       "      <th>4</th>\n",
       "      <td>1</td>\n",
       "      <td>3</td>\n",
       "      <td>2</td>\n",
       "      <td>3</td>\n",
       "      <td>1</td>\n",
       "      <td>1</td>\n",
       "      <td>2</td>\n",
       "      <td>0</td>\n",
       "    </tr>\n",
       "    <tr>\n",
       "      <th>...</th>\n",
       "      <td>...</td>\n",
       "      <td>...</td>\n",
       "      <td>...</td>\n",
       "      <td>...</td>\n",
       "      <td>...</td>\n",
       "      <td>...</td>\n",
       "      <td>...</td>\n",
       "      <td>...</td>\n",
       "    </tr>\n",
       "    <tr>\n",
       "      <th>988</th>\n",
       "      <td>4</td>\n",
       "      <td>4</td>\n",
       "      <td>3</td>\n",
       "      <td>1</td>\n",
       "      <td>0</td>\n",
       "      <td>1</td>\n",
       "      <td>2</td>\n",
       "      <td>0</td>\n",
       "    </tr>\n",
       "    <tr>\n",
       "      <th>989</th>\n",
       "      <td>4</td>\n",
       "      <td>4</td>\n",
       "      <td>3</td>\n",
       "      <td>1</td>\n",
       "      <td>0</td>\n",
       "      <td>1</td>\n",
       "      <td>2</td>\n",
       "      <td>0</td>\n",
       "    </tr>\n",
       "    <tr>\n",
       "      <th>990</th>\n",
       "      <td>4</td>\n",
       "      <td>4</td>\n",
       "      <td>3</td>\n",
       "      <td>1</td>\n",
       "      <td>0</td>\n",
       "      <td>1</td>\n",
       "      <td>2</td>\n",
       "      <td>2</td>\n",
       "    </tr>\n",
       "    <tr>\n",
       "      <th>991</th>\n",
       "      <td>4</td>\n",
       "      <td>4</td>\n",
       "      <td>3</td>\n",
       "      <td>1</td>\n",
       "      <td>0</td>\n",
       "      <td>1</td>\n",
       "      <td>2</td>\n",
       "      <td>2</td>\n",
       "    </tr>\n",
       "    <tr>\n",
       "      <th>992</th>\n",
       "      <td>1</td>\n",
       "      <td>3</td>\n",
       "      <td>2</td>\n",
       "      <td>3</td>\n",
       "      <td>1</td>\n",
       "      <td>1</td>\n",
       "      <td>1</td>\n",
       "      <td>2</td>\n",
       "    </tr>\n",
       "  </tbody>\n",
       "</table>\n",
       "<p>993 rows × 8 columns</p>\n",
       "</div>"
      ],
      "text/plain": [
       "     Name_x  State  Type  BestTimeToVisit  Preferences  Gender  \\\n",
       "0         1      3     2                3            1       0   \n",
       "1         4      4     3                1            1       1   \n",
       "2         1      3     2                3            2       1   \n",
       "3         2      2     4                4            2       0   \n",
       "4         1      3     2                3            1       1   \n",
       "..      ...    ...   ...              ...          ...     ...   \n",
       "988       4      4     3                1            0       1   \n",
       "989       4      4     3                1            0       1   \n",
       "990       4      4     3                1            0       1   \n",
       "991       4      4     3                1            0       1   \n",
       "992       1      3     2                3            1       1   \n",
       "\n",
       "     NumberOfAdults  NumberOfChildren  \n",
       "0                 1                 1  \n",
       "1                 1                 1  \n",
       "2                 1                 1  \n",
       "3                 2                 0  \n",
       "4                 2                 0  \n",
       "..              ...               ...  \n",
       "988               2                 0  \n",
       "989               2                 0  \n",
       "990               2                 2  \n",
       "991               2                 2  \n",
       "992               1                 2  \n",
       "\n",
       "[993 rows x 8 columns]"
      ]
     },
     "execution_count": 41,
     "metadata": {},
     "output_type": "execute_result"
    }
   ],
   "source": [
    "data[features]"
   ]
  },
  {
   "cell_type": "markdown",
   "metadata": {},
   "source": [
    "## Model Training "
   ]
  },
  {
   "cell_type": "code",
   "execution_count": 42,
   "metadata": {
    "executionInfo": {
     "elapsed": 8,
     "status": "ok",
     "timestamp": 1749196593687,
     "user": {
      "displayName": "collegeratnagiri government",
      "userId": "11950044814894972433"
     },
     "user_tz": -330
    },
    "id": "LykBiym3F2r2"
   },
   "outputs": [],
   "source": [
    "X = data[features]\n",
    "y = data[target]\n",
    "X_train, X_test, y_train, y_test = train_test_split(X, y, test_size=0.2, random_state=42)"
   ]
  },
  {
   "cell_type": "code",
   "execution_count": 43,
   "metadata": {
    "colab": {
     "base_uri": "https://localhost:8080/"
    },
    "executionInfo": {
     "elapsed": 187,
     "status": "ok",
     "timestamp": 1749196594410,
     "user": {
      "displayName": "collegeratnagiri government",
      "userId": "11950044814894972433"
     },
     "user_tz": -330
    },
    "id": "YJAw_t6vF2jm",
    "outputId": "e429371b-767b-4c04-9412-8353a88b6653"
   },
   "outputs": [
    {
     "name": "stdout",
     "output_type": "stream",
     "text": [
      "Mean Squared Error: 0.30\n",
      "R² Score: 0.07\n"
     ]
    }
   ],
   "source": [
    "#Train Model\n",
    "model = RandomForestRegressor(random_state=42)\n",
    "model.fit(X_train, y_train)\n",
    "\n",
    "#Evaluation\n",
    "y_pred = model.predict(X_test)\n",
    "print(f\"Mean Squared Error: {mean_squared_error(y_test, y_pred):.2f}\")\n",
    "print(f\"R² Score: {r2_score(y_test, y_pred):.2f}\")"
   ]
  },
  {
   "cell_type": "code",
   "execution_count": 44,
   "metadata": {
    "colab": {
     "base_uri": "https://localhost:8080/"
    },
    "executionInfo": {
     "elapsed": 59,
     "status": "ok",
     "timestamp": 1749196596607,
     "user": {
      "displayName": "collegeratnagiri government",
      "userId": "11950044814894972433"
     },
     "user_tz": -330
    },
    "id": "23mtd018GInu",
    "outputId": "a5582427-6bc5-4f08-a85d-836119c25b59"
   },
   "outputs": [
    {
     "name": "stdout",
     "output_type": "stream",
     "text": [
      "Predicted Popularity Score: 7.88\n"
     ]
    }
   ],
   "source": [
    "def recommend_destinations(user_input, model, label_encoders, features, data):\n",
    "    # Encode user input\n",
    "    encoded_input = {}\n",
    "    for feature in features:\n",
    "        if feature in label_encoders:\n",
    "            encoded_input[feature] = label_encoders[feature].transform([user_input[feature]])[0]\n",
    "        else:\n",
    "            encoded_input[feature] = user_input[feature]\n",
    "\n",
    "    # Convert to DataFrame\n",
    "    input_df = pd.DataFrame([encoded_input])\n",
    "\n",
    "    # Predict popularity\n",
    "    predicted_popularity = model.predict(input_df)[0]\n",
    "\n",
    "    return predicted_popularity\n",
    "\n",
    "\n",
    "# Example user input\n",
    "user_input = {\n",
    "    'Name_x': 'Jaipur City',\n",
    "    'Type': 'City',\n",
    "    'State': 'Rajasthan',\n",
    "    'BestTimeToVisit': 'Oct-Mar',  # This might be an unseen label\n",
    "    'Preferences': 'City, Historical',\n",
    "    'Gender': 'Female',\n",
    "    'NumberOfAdults': 2,\n",
    "    'NumberOfChildren': 1,\n",
    "}\n",
    "\n",
    "# Make a prediction\n",
    "predicted_popularity = recommend_destinations(user_input, model, label_encoders, features, data)\n",
    "\n",
    "# Print the predicted popularity and the recommended destination details\n",
    "print(f\"Predicted Popularity Score: {predicted_popularity:.2f}\")"
   ]
  },
  {
   "cell_type": "markdown",
   "metadata": {},
   "source": [
    "## Save Model"
   ]
  },
  {
   "cell_type": "code",
   "execution_count": 45,
   "metadata": {
    "executionInfo": {
     "elapsed": 8,
     "status": "ok",
     "timestamp": 1749196599253,
     "user": {
      "displayName": "collegeratnagiri government",
      "userId": "11950044814894972433"
     },
     "user_tz": -330
    },
    "id": "DBR9NWm8N0Tl"
   },
   "outputs": [],
   "source": [
    "pickle.dump(model, open(\"model.pkl\",'wb'))\n",
    "pickle.dump(label_encoders, open(\"label_encoders.pkl\",'wb'))"
   ]
  },
  {
   "cell_type": "code",
   "execution_count": 46,
   "metadata": {
    "colab": {
     "base_uri": "https://localhost:8080/"
    },
    "executionInfo": {
     "elapsed": 7,
     "status": "ok",
     "timestamp": 1749198581742,
     "user": {
      "displayName": "collegeratnagiri government",
      "userId": "11950044814894972433"
     },
     "user_tz": -330
    },
    "id": "tIfozsbGW_T-",
    "outputId": "1dbb0fe2-d349-4edb-af88-f5c1cccbade6"
   },
   "outputs": [
    {
     "data": {
      "text/plain": [
       "Index(['DestinationID', 'Name', 'State', 'Type', 'Popularity',\n",
       "       'BestTimeToVisit'],\n",
       "      dtype='object')"
      ]
     },
     "execution_count": 46,
     "metadata": {},
     "output_type": "execute_result"
    }
   ],
   "source": [
    "destinations_df.columns"
   ]
  },
  {
   "cell_type": "code",
   "execution_count": 47,
   "metadata": {
    "colab": {
     "base_uri": "https://localhost:8080/",
     "height": 204
    },
    "executionInfo": {
     "elapsed": 600,
     "status": "ok",
     "timestamp": 1749198597914,
     "user": {
      "displayName": "collegeratnagiri government",
      "userId": "11950044814894972433"
     },
     "user_tz": -330
    },
    "id": "huZoZw0aXEID",
    "outputId": "c5a6d174-cfe6-4a8d-c9cc-bdfe3e96a3bb"
   },
   "outputs": [
    {
     "data": {
      "text/plain": [
       "pandas.core.frame.DataFrame"
      ]
     },
     "execution_count": 47,
     "metadata": {},
     "output_type": "execute_result"
    }
   ],
   "source": [
    "type(destinations_df)"
   ]
  },
  {
   "cell_type": "code",
   "execution_count": 48,
   "metadata": {
    "colab": {
     "base_uri": "https://localhost:8080/",
     "height": 206
    },
    "executionInfo": {
     "elapsed": 114,
     "status": "ok",
     "timestamp": 1749198617033,
     "user": {
      "displayName": "collegeratnagiri government",
      "userId": "11950044814894972433"
     },
     "user_tz": -330
    },
    "id": "gXl_SfwHXJKE",
    "outputId": "ecabaf0f-b71c-43ec-ed51-01b35e4224c7"
   },
   "outputs": [
    {
     "data": {
      "text/html": [
       "<div>\n",
       "<style scoped>\n",
       "    .dataframe tbody tr th:only-of-type {\n",
       "        vertical-align: middle;\n",
       "    }\n",
       "\n",
       "    .dataframe tbody tr th {\n",
       "        vertical-align: top;\n",
       "    }\n",
       "\n",
       "    .dataframe thead th {\n",
       "        text-align: right;\n",
       "    }\n",
       "</style>\n",
       "<table border=\"1\" class=\"dataframe\">\n",
       "  <thead>\n",
       "    <tr style=\"text-align: right;\">\n",
       "      <th></th>\n",
       "      <th>DestinationID</th>\n",
       "      <th>Name</th>\n",
       "      <th>State</th>\n",
       "      <th>Type</th>\n",
       "      <th>Popularity</th>\n",
       "      <th>BestTimeToVisit</th>\n",
       "    </tr>\n",
       "  </thead>\n",
       "  <tbody>\n",
       "    <tr>\n",
       "      <th>0</th>\n",
       "      <td>1</td>\n",
       "      <td>Taj Mahal</td>\n",
       "      <td>Uttar Pradesh</td>\n",
       "      <td>Historical</td>\n",
       "      <td>8.691906</td>\n",
       "      <td>Nov-Feb</td>\n",
       "    </tr>\n",
       "    <tr>\n",
       "      <th>1</th>\n",
       "      <td>2</td>\n",
       "      <td>Goa Beaches</td>\n",
       "      <td>Goa</td>\n",
       "      <td>Beach</td>\n",
       "      <td>8.605032</td>\n",
       "      <td>Nov-Mar</td>\n",
       "    </tr>\n",
       "    <tr>\n",
       "      <th>2</th>\n",
       "      <td>3</td>\n",
       "      <td>Jaipur City</td>\n",
       "      <td>Rajasthan</td>\n",
       "      <td>City</td>\n",
       "      <td>9.225372</td>\n",
       "      <td>Oct-Mar</td>\n",
       "    </tr>\n",
       "    <tr>\n",
       "      <th>3</th>\n",
       "      <td>4</td>\n",
       "      <td>Kerala Backwaters</td>\n",
       "      <td>Kerala</td>\n",
       "      <td>Nature</td>\n",
       "      <td>7.977386</td>\n",
       "      <td>Sep-Mar</td>\n",
       "    </tr>\n",
       "    <tr>\n",
       "      <th>4</th>\n",
       "      <td>5</td>\n",
       "      <td>Leh Ladakh</td>\n",
       "      <td>Jammu and Kashmir</td>\n",
       "      <td>Adventure</td>\n",
       "      <td>8.399822</td>\n",
       "      <td>Apr-Jun</td>\n",
       "    </tr>\n",
       "  </tbody>\n",
       "</table>\n",
       "</div>"
      ],
      "text/plain": [
       "   DestinationID               Name              State        Type  \\\n",
       "0              1          Taj Mahal      Uttar Pradesh  Historical   \n",
       "1              2        Goa Beaches                Goa       Beach   \n",
       "2              3        Jaipur City          Rajasthan        City   \n",
       "3              4  Kerala Backwaters             Kerala      Nature   \n",
       "4              5         Leh Ladakh  Jammu and Kashmir   Adventure   \n",
       "\n",
       "   Popularity BestTimeToVisit  \n",
       "0    8.691906         Nov-Feb  \n",
       "1    8.605032         Nov-Mar  \n",
       "2    9.225372         Oct-Mar  \n",
       "3    7.977386         Sep-Mar  \n",
       "4    8.399822         Apr-Jun  "
      ]
     },
     "execution_count": 48,
     "metadata": {},
     "output_type": "execute_result"
    }
   ],
   "source": [
    "destinations_df.head()"
   ]
  },
  {
   "cell_type": "code",
   "execution_count": 49,
   "metadata": {
    "executionInfo": {
     "elapsed": 4,
     "status": "ok",
     "timestamp": 1749198676581,
     "user": {
      "displayName": "collegeratnagiri government",
      "userId": "11950044814894972433"
     },
     "user_tz": -330
    },
    "id": "KlpanPgqXZiz"
   },
   "outputs": [],
   "source": [
    "destinations_df.columns = destinations_df.columns.str.strip()"
   ]
  },
  {
   "cell_type": "code",
   "execution_count": null,
   "metadata": {},
   "outputs": [],
   "source": []
  }
 ],
 "metadata": {
  "colab": {
   "authorship_tag": "ABX9TyOfHndNQVA8xiMAaFpypXbU",
   "mount_file_id": "1a19FTti1h0nWLAnbim2rF85YMd7hii7h",
   "provenance": []
  },
  "kernelspec": {
   "display_name": "Python 3 (ipykernel)",
   "language": "python",
   "name": "python3"
  },
  "language_info": {
   "codemirror_mode": {
    "name": "ipython",
    "version": 3
   },
   "file_extension": ".py",
   "mimetype": "text/x-python",
   "name": "python",
   "nbconvert_exporter": "python",
   "pygments_lexer": "ipython3",
   "version": "3.13.5"
  }
 },
 "nbformat": 4,
 "nbformat_minor": 4
}
